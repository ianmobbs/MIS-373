{
 "cells": [
  {
   "cell_type": "markdown",
   "metadata": {},
   "source": [
    "# Homework 3\n",
    "\n",
    "# Regression\n",
    "\n",
    "## Imports"
   ]
  },
  {
   "cell_type": "code",
   "execution_count": 51,
   "metadata": {},
   "outputs": [
    {
     "name": "stdout",
     "output_type": "stream",
     "text": [
      "Populating the interactive namespace from numpy and matplotlib\n"
     ]
    }
   ],
   "source": [
    "from pandas import Series, DataFrame\n",
    "import pandas as pd\n",
    "import statsmodels.api as sm\n",
    "from patsy import dmatrices\n",
    "%pylab inline"
   ]
  },
  {
   "cell_type": "markdown",
   "metadata": {},
   "source": [
    "## Q1\n",
    "\n",
    "Setup"
   ]
  },
  {
   "cell_type": "code",
   "execution_count": 52,
   "metadata": {},
   "outputs": [
    {
     "data": {
      "text/html": [
       "<div>\n",
       "<table border=\"1\" class=\"dataframe\">\n",
       "  <thead>\n",
       "    <tr style=\"text-align: right;\">\n",
       "      <th></th>\n",
       "      <th>countyName</th>\n",
       "      <th>percentVoting</th>\n",
       "      <th>medianAge</th>\n",
       "      <th>meanSavings</th>\n",
       "      <th>perCapitalIncome</th>\n",
       "      <th>percentPoverty</th>\n",
       "      <th>percentVeterans</th>\n",
       "      <th>percentFemale</th>\n",
       "      <th>popDensity</th>\n",
       "      <th>percentNursing</th>\n",
       "      <th>crimeIndex</th>\n",
       "    </tr>\n",
       "  </thead>\n",
       "  <tbody>\n",
       "    <tr>\n",
       "      <th>0</th>\n",
       "      <td>Autauga, AL</td>\n",
       "      <td>30.92</td>\n",
       "      <td>31.7</td>\n",
       "      <td>57623</td>\n",
       "      <td>15768</td>\n",
       "      <td>15.2</td>\n",
       "      <td>10.74</td>\n",
       "      <td>51.41</td>\n",
       "      <td>60.4</td>\n",
       "      <td>2.36</td>\n",
       "      <td>457</td>\n",
       "    </tr>\n",
       "    <tr>\n",
       "      <th>1</th>\n",
       "      <td>Baldwin, AL</td>\n",
       "      <td>26.24</td>\n",
       "      <td>35.5</td>\n",
       "      <td>84935</td>\n",
       "      <td>16954</td>\n",
       "      <td>13.6</td>\n",
       "      <td>9.73</td>\n",
       "      <td>51.34</td>\n",
       "      <td>66.5</td>\n",
       "      <td>5.40</td>\n",
       "      <td>282</td>\n",
       "    </tr>\n",
       "    <tr>\n",
       "      <th>2</th>\n",
       "      <td>Barbour, AL</td>\n",
       "      <td>46.36</td>\n",
       "      <td>32.8</td>\n",
       "      <td>83656</td>\n",
       "      <td>15532</td>\n",
       "      <td>25.0</td>\n",
       "      <td>8.82</td>\n",
       "      <td>53.03</td>\n",
       "      <td>28.8</td>\n",
       "      <td>7.02</td>\n",
       "      <td>47</td>\n",
       "    </tr>\n",
       "    <tr>\n",
       "      <th>3</th>\n",
       "      <td>Blount, AL</td>\n",
       "      <td>32.92</td>\n",
       "      <td>34.5</td>\n",
       "      <td>61249</td>\n",
       "      <td>14820</td>\n",
       "      <td>15.0</td>\n",
       "      <td>9.67</td>\n",
       "      <td>51.15</td>\n",
       "      <td>62.4</td>\n",
       "      <td>2.36</td>\n",
       "      <td>185</td>\n",
       "    </tr>\n",
       "    <tr>\n",
       "      <th>4</th>\n",
       "      <td>Bullock, AL</td>\n",
       "      <td>67.67</td>\n",
       "      <td>31.7</td>\n",
       "      <td>75725</td>\n",
       "      <td>11120</td>\n",
       "      <td>33.0</td>\n",
       "      <td>7.08</td>\n",
       "      <td>50.76</td>\n",
       "      <td>17.6</td>\n",
       "      <td>2.91</td>\n",
       "      <td>141</td>\n",
       "    </tr>\n",
       "  </tbody>\n",
       "</table>\n",
       "</div>"
      ],
      "text/plain": [
       "    countyName  percentVoting  medianAge  meanSavings  perCapitalIncome  \\\n",
       "0  Autauga, AL          30.92       31.7        57623             15768   \n",
       "1  Baldwin, AL          26.24       35.5        84935             16954   \n",
       "2  Barbour, AL          46.36       32.8        83656             15532   \n",
       "3   Blount, AL          32.92       34.5        61249             14820   \n",
       "4  Bullock, AL          67.67       31.7        75725             11120   \n",
       "\n",
       "   percentPoverty  percentVeterans  percentFemale  popDensity  percentNursing  \\\n",
       "0            15.2            10.74          51.41        60.4            2.36   \n",
       "1            13.6             9.73          51.34        66.5            5.40   \n",
       "2            25.0             8.82          53.03        28.8            7.02   \n",
       "3            15.0             9.67          51.15        62.4            2.36   \n",
       "4            33.0             7.08          50.76        17.6            2.91   \n",
       "\n",
       "   crimeIndex  \n",
       "0         457  \n",
       "1         282  \n",
       "2          47  \n",
       "3         185  \n",
       "4         141  "
      ]
     },
     "execution_count": 52,
     "metadata": {},
     "output_type": "execute_result"
    }
   ],
   "source": [
    "df = pd.read_csv('http://www.stat.ufl.edu/~winner/data/clinton1.dat', sep='\\s\\s+', names= ['countyName', 'percentVoting', 'medianAge', 'meanSavings', 'perCapitalIncome', 'percentPoverty', 'percentVeterans', 'percentFemale', 'popDensity', 'percentNursing', 'crimeIndex'], engine='python')\n",
    "df[:5]"
   ]
  },
  {
   "cell_type": "markdown",
   "metadata": {},
   "source": [
    "## Q2\n",
    "\n",
    "The two regressors with the worst p-values are `medianAge` and `crimeIndex`"
   ]
  },
  {
   "cell_type": "code",
   "execution_count": 53,
   "metadata": {},
   "outputs": [
    {
     "name": "stdout",
     "output_type": "stream",
     "text": [
      "                            OLS Regression Results                            \n",
      "==============================================================================\n",
      "Dep. Variable:          percentVoting   R-squared:                       0.327\n",
      "Model:                            OLS   Adj. R-squared:                  0.325\n",
      "Method:                 Least Squares   F-statistic:                     145.4\n",
      "Date:                Sun, 16 Apr 2017   Prob (F-statistic):          4.12e-224\n",
      "Time:                        16:50:12   Log-Likelihood:                -9576.0\n",
      "No. Observations:                2704   AIC:                         1.917e+04\n",
      "Df Residuals:                    2694   BIC:                         1.923e+04\n",
      "Df Model:                           9                                         \n",
      "Covariance Type:            nonrobust                                         \n",
      "====================================================================================\n",
      "                       coef    std err          t      P>|t|      [0.025      0.975]\n",
      "------------------------------------------------------------------------------------\n",
      "Intercept          -38.3094      5.818     -6.585      0.000     -49.717     -26.901\n",
      "medianAge            0.0707      0.060      1.179      0.239      -0.047       0.188\n",
      "meanSavings      -3.077e-05   4.93e-06     -6.247      0.000   -4.04e-05   -2.11e-05\n",
      "perCapitalIncome     0.0002   7.42e-05      2.375      0.018    3.08e-05       0.000\n",
      "percentPoverty       0.7669      0.035     22.118      0.000       0.699       0.835\n",
      "percentVeterans      0.3088      0.087      3.554      0.000       0.138       0.479\n",
      "percentFemale        1.1844      0.119      9.985      0.000       0.952       1.417\n",
      "popDensity           0.0019      0.000      9.681      0.000       0.002       0.002\n",
      "percentNursing      -0.0908      0.033     -2.794      0.005      -0.155      -0.027\n",
      "crimeIndex          -0.0013      0.001     -1.469      0.142      -0.003       0.000\n",
      "==============================================================================\n",
      "Omnibus:                       22.560   Durbin-Watson:                   1.360\n",
      "Prob(Omnibus):                  0.000   Jarque-Bera (JB):               28.526\n",
      "Skew:                           0.129   Prob(JB):                     6.39e-07\n",
      "Kurtosis:                       3.432   Cond. No.                     3.62e+06\n",
      "==============================================================================\n",
      "\n",
      "Warnings:\n",
      "[1] Standard Errors assume that the covariance matrix of the errors is correctly specified.\n",
      "[2] The condition number is large, 3.62e+06. This might indicate that there are\n",
      "strong multicollinearity or other numerical problems.\n"
     ]
    }
   ],
   "source": [
    "y, X = dmatrices('percentVoting ~ medianAge + meanSavings + perCapitalIncome + percentPoverty + percentVeterans + percentFemale + popDensity + percentNursing + crimeIndex', data=df, return_type='dataframe')\n",
    "model = sm.OLS(y, X)\n",
    "result = model.fit()\n",
    "print result.summary()"
   ]
  },
  {
   "cell_type": "markdown",
   "metadata": {},
   "source": [
    "# Q3"
   ]
  },
  {
   "cell_type": "code",
   "execution_count": 54,
   "metadata": {
    "collapsed": true
   },
   "outputs": [],
   "source": [
    "def formula(listOfRegressors):\n",
    "    return \"percentVoting ~ \" + \" + \".join(listOfRegressors)"
   ]
  },
  {
   "cell_type": "markdown",
   "metadata": {},
   "source": [
    "## Q4"
   ]
  },
  {
   "cell_type": "code",
   "execution_count": 55,
   "metadata": {
    "collapsed": true
   },
   "outputs": [],
   "source": [
    "def rsquared(listOfRegressors):\n",
    "    calculation = formula(listOfRegressors)\n",
    "    y, X = dmatrices(calculation, data=df, return_type='dataframe')\n",
    "    model = sm.OLS(y, X)\n",
    "    result = model.fit()\n",
    "    return result.rsquared"
   ]
  },
  {
   "cell_type": "markdown",
   "metadata": {},
   "source": [
    "## Q5"
   ]
  },
  {
   "cell_type": "code",
   "execution_count": 56,
   "metadata": {
    "collapsed": true
   },
   "outputs": [],
   "source": [
    "def best_next_regressor(current_regressor_list, all_regressors_list):\n",
    "    baseline = rsquared(current_regressor_list)\n",
    "    improvements = {}\n",
    "    regressors = list(set(all_regressors_list) - set(current_regressor_list))\n",
    "    for regressor in regressors:\n",
    "        temp = current_regressor_list[:]\n",
    "        temp.append(regressor)\n",
    "        improvements[regressor] = rsquared(temp)\n",
    "    bestRegressor = max(improvements, key=improvements.get)\n",
    "    return (bestRegressor, improvements[bestRegressor])"
   ]
  },
  {
   "cell_type": "markdown",
   "metadata": {},
   "source": [
    "### reserved"
   ]
  },
  {
   "cell_type": "markdown",
   "metadata": {},
   "source": [
    "# K-Nearest Neighbors\n",
    "\n",
    "## Imports"
   ]
  },
  {
   "cell_type": "code",
   "execution_count": 62,
   "metadata": {
    "collapsed": true
   },
   "outputs": [],
   "source": [
    "from sklearn.model_selection import train_test_split\n",
    "from sklearn import neighbors\n",
    "from sklearn import metrics"
   ]
  },
  {
   "cell_type": "markdown",
   "metadata": {},
   "source": [
    "## Q9\n",
    "\n",
    "A `Target` column has been created on the dataframe, with value counts of 1469 for 0 and 1235 for 1"
   ]
  },
  {
   "cell_type": "code",
   "execution_count": 83,
   "metadata": {},
   "outputs": [
    {
     "data": {
      "text/plain": [
       "0    1469\n",
       "1    1235\n",
       "Name: Target, dtype: int64"
      ]
     },
     "execution_count": 83,
     "metadata": {},
     "output_type": "execute_result"
    }
   ],
   "source": [
    "df['Target'] = df.apply(lambda row: 1 if row['percentVoting'] >= 40 else 0, axis=1)\n",
    "df['Target'].value_counts()"
   ]
  },
  {
   "cell_type": "markdown",
   "metadata": {},
   "source": [
    "## Q10\n",
    "\n",
    "The data has been separated into X and y variables for classification using the variables `Target`, `percentPoverty`, and `popDensity`"
   ]
  },
  {
   "cell_type": "code",
   "execution_count": 84,
   "metadata": {
    "collapsed": true
   },
   "outputs": [],
   "source": [
    "Y, X = dmatrices(\"Target ~ percentPoverty + popDensity\", df, return_type=\"dataframe\")\n",
    "y = Y['Target'].values\n",
    "X_train, X_test, y_train, y_test = train_test_split(X, y, test_size=0.3, random_state=1)"
   ]
  },
  {
   "cell_type": "markdown",
   "metadata": {},
   "source": [
    "## Q11\n",
    "\n",
    "Accuracy was tested for each of the neighbor amounts listed"
   ]
  },
  {
   "cell_type": "code",
   "execution_count": 85,
   "metadata": {},
   "outputs": [
    {
     "name": "stdout",
     "output_type": "stream",
     "text": [
      "1 Neighbors\n",
      "Training score: 0.997885835095\n",
      "Testing score: 0.600985221675\n",
      "\n",
      "3 Neighbors\n",
      "Training score: 0.788054968288\n",
      "Testing score: 0.635467980296\n",
      "\n",
      "5 Neighbors\n",
      "Training score: 0.748414376321\n",
      "Testing score: 0.630541871921\n",
      "\n",
      "10 Neighbors\n",
      "Training score: 0.720401691332\n",
      "Testing score: 0.646551724138\n",
      "\n",
      "20 Neighbors\n",
      "Training score: 0.690274841438\n",
      "Testing score: 0.658866995074\n",
      "\n",
      "50 Neighbors\n",
      "Training score: 0.683932346723\n",
      "Testing score: 0.662561576355\n",
      "\n",
      "100 Neighbors\n",
      "Training score: 0.677589852008\n",
      "Testing score: 0.663793103448\n",
      "\n",
      "1000 Neighbors\n",
      "Training score: 0.567124735729\n",
      "Testing score: 0.576354679803\n",
      "\n"
     ]
    }
   ],
   "source": [
    "neighborAmounts = [1, 3, 5, 10, 20, 50, 100, 1000]\n",
    "for amount in neighborAmounts:\n",
    "    print str(amount) + \" Neighbors\"\n",
    "    \n",
    "    model = neighbors.KNeighborsClassifier(n_neighbors=amount, weights='uniform', p=2)\n",
    "    model.fit(X_train, y_train)\n",
    "    \n",
    "    prediction_on_training = model.predict(X_train)\n",
    "    training_score = metrics.accuracy_score(y_train, prediction_on_training)\n",
    "    print \"Training score: \" + str(training_score)\n",
    "    \n",
    "    test_predictions = model.predict(X_test)\n",
    "    testing_score = metrics.accuracy_score(y_test, test_predictions)\n",
    "    print \"Testing score: \" + str(testing_score)\n",
    "    print"
   ]
  },
  {
   "cell_type": "markdown",
   "metadata": {},
   "source": [
    "## Q12\n",
    "\n",
    "While the sheer amount of data makes the graph difficult to in"
   ]
  },
  {
   "cell_type": "code",
   "execution_count": 96,
   "metadata": {},
   "outputs": [
    {
     "data": {
      "text/plain": [
       "<matplotlib.text.Text at 0x11369aad0>"
      ]
     },
     "execution_count": 96,
     "metadata": {},
     "output_type": "execute_result"
    },
    {
     "data": {
      "image/png": "[encoded data removed]",
      "text/plain": [
       "<matplotlib.figure.Figure at 0x11364d810>"
      ]
     },
     "metadata": {},
     "output_type": "display_data"
    }
   ],
   "source": [
    "scatter(df['percentPoverty'], df['popDensity'], c=df['Target'], cmap='bwr')\n",
    "xlabel(\"Percent in Poverty\")\n",
    "ylabel(\"Population Density\")"
   ]
  },
  {
   "cell_type": "code",
   "execution_count": null,
   "metadata": {
    "collapsed": true
   },
   "outputs": [],
   "source": []
  }
 ],
 "metadata": {
  "kernelspec": {
   "display_name": "Python 2",
   "language": "python",
   "name": "python2"
  },
  "language_info": {
   "codemirror_mode": {
    "name": "ipython",
    "version": 2
   },
   "file_extension": ".py",
   "mimetype": "text/x-python",
   "name": "python",
   "nbconvert_exporter": "python",
   "pygments_lexer": "ipython2",
   "version": "2.7.12"
  }
 },
 "nbformat": 4,
 "nbformat_minor": 2
}
