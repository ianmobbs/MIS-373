{
 "cells": [
  {
   "cell_type": "markdown",
   "metadata": {},
   "source": [
    "## Imports"
   ]
  },
  {
   "cell_type": "code",
   "execution_count": 2,
   "metadata": {},
   "outputs": [
    {
     "name": "stdout",
     "output_type": "stream",
     "text": [
      "Populating the interactive namespace from numpy and matplotlib\n"
     ]
    }
   ],
   "source": [
    "# Determine quality from other traits\n",
    "# Cluster and determine wine type\n",
    "\n",
    "import pandas as pd\n",
    "from pandas import DataFrame, Series\n",
    "from patsy import dmatrices\n",
    "from sklearn.model_selection import train_test_split\n",
    "from sklearn.linear_model import LogisticRegression\n",
    "from sklearn import metrics\n",
    "from sklearn import tree\n",
    "import statsmodels.api as sm\n",
    "import os\n",
    "\n",
    "%pylab inline"
   ]
  },
  {
   "cell_type": "markdown",
   "metadata": {},
   "source": [
    "# OLS Regression\n",
    "\n",
    "Determining wine quality from all other factors\n",
    "\n",
    "## Setup"
   ]
  },
  {
   "cell_type": "markdown",
   "metadata": {},
   "source": [
    "Assemble the red and white dataframes, then concatenate them into a master dataframe."
   ]
  },
  {
   "cell_type": "code",
   "execution_count": 20,
   "metadata": {},
   "outputs": [
    {
     "data": {
      "text/html": [
       "<div>\n",
       "<table border=\"1\" class=\"dataframe\">\n",
       "  <thead>\n",
       "    <tr style=\"text-align: right;\">\n",
       "      <th></th>\n",
       "      <th>fixed_acidity</th>\n",
       "      <th>volatile_acidity</th>\n",
       "      <th>citric_acid</th>\n",
       "      <th>residual_sugar</th>\n",
       "      <th>chlorides</th>\n",
       "      <th>free_sulfur_dioxide</th>\n",
       "      <th>total_sulfur_dioxide</th>\n",
       "      <th>density</th>\n",
       "      <th>pH</th>\n",
       "      <th>sulphates</th>\n",
       "      <th>alcohol</th>\n",
       "      <th>quality</th>\n",
       "      <th>color</th>\n",
       "    </tr>\n",
       "  </thead>\n",
       "  <tbody>\n",
       "    <tr>\n",
       "      <th>0</th>\n",
       "      <td>7.4</td>\n",
       "      <td>0.70</td>\n",
       "      <td>0.00</td>\n",
       "      <td>1.9</td>\n",
       "      <td>0.076</td>\n",
       "      <td>11.0</td>\n",
       "      <td>34.0</td>\n",
       "      <td>0.9978</td>\n",
       "      <td>3.51</td>\n",
       "      <td>0.56</td>\n",
       "      <td>9.4</td>\n",
       "      <td>5</td>\n",
       "      <td>red</td>\n",
       "    </tr>\n",
       "    <tr>\n",
       "      <th>1</th>\n",
       "      <td>7.8</td>\n",
       "      <td>0.88</td>\n",
       "      <td>0.00</td>\n",
       "      <td>2.6</td>\n",
       "      <td>0.098</td>\n",
       "      <td>25.0</td>\n",
       "      <td>67.0</td>\n",
       "      <td>0.9968</td>\n",
       "      <td>3.20</td>\n",
       "      <td>0.68</td>\n",
       "      <td>9.8</td>\n",
       "      <td>5</td>\n",
       "      <td>red</td>\n",
       "    </tr>\n",
       "    <tr>\n",
       "      <th>2</th>\n",
       "      <td>7.8</td>\n",
       "      <td>0.76</td>\n",
       "      <td>0.04</td>\n",
       "      <td>2.3</td>\n",
       "      <td>0.092</td>\n",
       "      <td>15.0</td>\n",
       "      <td>54.0</td>\n",
       "      <td>0.9970</td>\n",
       "      <td>3.26</td>\n",
       "      <td>0.65</td>\n",
       "      <td>9.8</td>\n",
       "      <td>5</td>\n",
       "      <td>red</td>\n",
       "    </tr>\n",
       "    <tr>\n",
       "      <th>3</th>\n",
       "      <td>11.2</td>\n",
       "      <td>0.28</td>\n",
       "      <td>0.56</td>\n",
       "      <td>1.9</td>\n",
       "      <td>0.075</td>\n",
       "      <td>17.0</td>\n",
       "      <td>60.0</td>\n",
       "      <td>0.9980</td>\n",
       "      <td>3.16</td>\n",
       "      <td>0.58</td>\n",
       "      <td>9.8</td>\n",
       "      <td>6</td>\n",
       "      <td>red</td>\n",
       "    </tr>\n",
       "    <tr>\n",
       "      <th>4</th>\n",
       "      <td>7.4</td>\n",
       "      <td>0.70</td>\n",
       "      <td>0.00</td>\n",
       "      <td>1.9</td>\n",
       "      <td>0.076</td>\n",
       "      <td>11.0</td>\n",
       "      <td>34.0</td>\n",
       "      <td>0.9978</td>\n",
       "      <td>3.51</td>\n",
       "      <td>0.56</td>\n",
       "      <td>9.4</td>\n",
       "      <td>5</td>\n",
       "      <td>red</td>\n",
       "    </tr>\n",
       "  </tbody>\n",
       "</table>\n",
       "</div>"
      ],
      "text/plain": [
       "   fixed_acidity  volatile_acidity  citric_acid  residual_sugar  chlorides  \\\n",
       "0            7.4              0.70         0.00             1.9      0.076   \n",
       "1            7.8              0.88         0.00             2.6      0.098   \n",
       "2            7.8              0.76         0.04             2.3      0.092   \n",
       "3           11.2              0.28         0.56             1.9      0.075   \n",
       "4            7.4              0.70         0.00             1.9      0.076   \n",
       "\n",
       "   free_sulfur_dioxide  total_sulfur_dioxide  density    pH  sulphates  \\\n",
       "0                 11.0                  34.0   0.9978  3.51       0.56   \n",
       "1                 25.0                  67.0   0.9968  3.20       0.68   \n",
       "2                 15.0                  54.0   0.9970  3.26       0.65   \n",
       "3                 17.0                  60.0   0.9980  3.16       0.58   \n",
       "4                 11.0                  34.0   0.9978  3.51       0.56   \n",
       "\n",
       "   alcohol  quality color  \n",
       "0      9.4        5   red  \n",
       "1      9.8        5   red  \n",
       "2      9.8        5   red  \n",
       "3      9.8        6   red  \n",
       "4      9.4        5   red  "
      ]
     },
     "execution_count": 20,
     "metadata": {},
     "output_type": "execute_result"
    }
   ],
   "source": [
    "# Load red wines\n",
    "names = ['fixed_acidity', 'volatile_acidity', 'citric_acid', 'residual_sugar', 'chlorides', 'free_sulfur_dioxide', 'total_sulfur_dioxide', 'density', 'pH', 'sulphates', 'alcohol', 'quality', 'color']\n",
    "\n",
    "dfRed = pd.read_csv('data/winequality-red.csv', sep=\";\")\n",
    "dfRed['color'] = 'red'\n",
    "dfRed.columns = names\n",
    "\n",
    "# Load white wines\n",
    "dfWhite = pd.read_csv('data/winequality-white.csv', sep=\";\")\n",
    "dfWhite['color'] = 'white'\n",
    "dfWhite.columns = names\n",
    "\n",
    "# Create master dataframe\n",
    "df = pd.concat([dfRed, dfWhite])\n",
    "df = df.reset_index(drop=True)\n",
    "\n",
    "df[:5]"
   ]
  },
  {
   "cell_type": "markdown",
   "metadata": {},
   "source": [
    "Create formula for the quality of a wine from all other variables"
   ]
  },
  {
   "cell_type": "code",
   "execution_count": 21,
   "metadata": {},
   "outputs": [
    {
     "data": {
      "text/plain": [
       "'quality ~ 0 + fixed_acidity + volatile_acidity + citric_acid + residual_sugar + chlorides + free_sulfur_dioxide + total_sulfur_dioxide + density + pH + sulphates + alcohol'"
      ]
     },
     "execution_count": 21,
     "metadata": {},
     "output_type": "execute_result"
    }
   ],
   "source": [
    "# Exclude color (categorical) and quality from regressing on quality\n",
    "traitsToExclude = ['color', 'quality']\n",
    "\n",
    "# Generate formula\n",
    "initialFormula = 'quality ~ 0 + ' + \" + \".join([column for column in df if column not in traitsToExclude])\n",
    "initialFormula"
   ]
  },
  {
   "cell_type": "markdown",
   "metadata": {},
   "source": [
    "## Red Wines\n",
    "\n",
    "Run regression on red wines"
   ]
  },
  {
   "cell_type": "code",
   "execution_count": 22,
   "metadata": {
    "scrolled": true
   },
   "outputs": [
    {
     "name": "stdout",
     "output_type": "stream",
     "text": [
      "      fixed_acidity  volatile_acidity  citric_acid  residual_sugar  chlorides  \\\n",
      "0               7.4             0.700         0.00             1.9      0.076   \n",
      "1               7.8             0.880         0.00             2.6      0.098   \n",
      "2               7.8             0.760         0.04             2.3      0.092   \n",
      "3              11.2             0.280         0.56             1.9      0.075   \n",
      "4               7.4             0.700         0.00             1.9      0.076   \n",
      "5               7.4             0.660         0.00             1.8      0.075   \n",
      "6               7.9             0.600         0.06             1.6      0.069   \n",
      "7               7.3             0.650         0.00             1.2      0.065   \n",
      "8               7.8             0.580         0.02             2.0      0.073   \n",
      "9               7.5             0.500         0.36             6.1      0.071   \n",
      "10              6.7             0.580         0.08             1.8      0.097   \n",
      "11              7.5             0.500         0.36             6.1      0.071   \n",
      "12              5.6             0.615         0.00             1.6      0.089   \n",
      "13              7.8             0.610         0.29             1.6      0.114   \n",
      "14              8.9             0.620         0.18             3.8      0.176   \n",
      "15              8.9             0.620         0.19             3.9      0.170   \n",
      "16              8.5             0.280         0.56             1.8      0.092   \n",
      "17              8.1             0.560         0.28             1.7      0.368   \n",
      "18              7.4             0.590         0.08             4.4      0.086   \n",
      "19              7.9             0.320         0.51             1.8      0.341   \n",
      "20              8.9             0.220         0.48             1.8      0.077   \n",
      "21              7.6             0.390         0.31             2.3      0.082   \n",
      "22              7.9             0.430         0.21             1.6      0.106   \n",
      "23              8.5             0.490         0.11             2.3      0.084   \n",
      "24              6.9             0.400         0.14             2.4      0.085   \n",
      "25              6.3             0.390         0.16             1.4      0.080   \n",
      "26              7.6             0.410         0.24             1.8      0.080   \n",
      "27              7.9             0.430         0.21             1.6      0.106   \n",
      "28              7.1             0.710         0.00             1.9      0.080   \n",
      "29              7.8             0.645         0.00             2.0      0.082   \n",
      "...             ...               ...          ...             ...        ...   \n",
      "1569            6.2             0.510         0.14             1.9      0.056   \n",
      "1570            6.4             0.360         0.53             2.2      0.230   \n",
      "1571            6.4             0.380         0.14             2.2      0.038   \n",
      "1572            7.3             0.690         0.32             2.2      0.069   \n",
      "1573            6.0             0.580         0.20             2.4      0.075   \n",
      "1574            5.6             0.310         0.78            13.9      0.074   \n",
      "1575            7.5             0.520         0.40             2.2      0.060   \n",
      "1576            8.0             0.300         0.63             1.6      0.081   \n",
      "1577            6.2             0.700         0.15             5.1      0.076   \n",
      "1578            6.8             0.670         0.15             1.8      0.118   \n",
      "1579            6.2             0.560         0.09             1.7      0.053   \n",
      "1580            7.4             0.350         0.33             2.4      0.068   \n",
      "1581            6.2             0.560         0.09             1.7      0.053   \n",
      "1582            6.1             0.715         0.10             2.6      0.053   \n",
      "1583            6.2             0.460         0.29             2.1      0.074   \n",
      "1584            6.7             0.320         0.44             2.4      0.061   \n",
      "1585            7.2             0.390         0.44             2.6      0.066   \n",
      "1586            7.5             0.310         0.41             2.4      0.065   \n",
      "1587            5.8             0.610         0.11             1.8      0.066   \n",
      "1588            7.2             0.660         0.33             2.5      0.068   \n",
      "1589            6.6             0.725         0.20             7.8      0.073   \n",
      "1590            6.3             0.550         0.15             1.8      0.077   \n",
      "1591            5.4             0.740         0.09             1.7      0.089   \n",
      "1592            6.3             0.510         0.13             2.3      0.076   \n",
      "1593            6.8             0.620         0.08             1.9      0.068   \n",
      "1594            6.2             0.600         0.08             2.0      0.090   \n",
      "1595            5.9             0.550         0.10             2.2      0.062   \n",
      "1596            6.3             0.510         0.13             2.3      0.076   \n",
      "1597            5.9             0.645         0.12             2.0      0.075   \n",
      "1598            6.0             0.310         0.47             3.6      0.067   \n",
      "\n",
      "      free_sulfur_dioxide  total_sulfur_dioxide  density    pH  sulphates  \\\n",
      "0                    11.0                  34.0  0.99780  3.51       0.56   \n",
      "1                    25.0                  67.0  0.99680  3.20       0.68   \n",
      "2                    15.0                  54.0  0.99700  3.26       0.65   \n",
      "3                    17.0                  60.0  0.99800  3.16       0.58   \n",
      "4                    11.0                  34.0  0.99780  3.51       0.56   \n",
      "5                    13.0                  40.0  0.99780  3.51       0.56   \n",
      "6                    15.0                  59.0  0.99640  3.30       0.46   \n",
      "7                    15.0                  21.0  0.99460  3.39       0.47   \n",
      "8                     9.0                  18.0  0.99680  3.36       0.57   \n",
      "9                    17.0                 102.0  0.99780  3.35       0.80   \n",
      "10                   15.0                  65.0  0.99590  3.28       0.54   \n",
      "11                   17.0                 102.0  0.99780  3.35       0.80   \n",
      "12                   16.0                  59.0  0.99430  3.58       0.52   \n",
      "13                    9.0                  29.0  0.99740  3.26       1.56   \n",
      "14                   52.0                 145.0  0.99860  3.16       0.88   \n",
      "15                   51.0                 148.0  0.99860  3.17       0.93   \n",
      "16                   35.0                 103.0  0.99690  3.30       0.75   \n",
      "17                   16.0                  56.0  0.99680  3.11       1.28   \n",
      "18                    6.0                  29.0  0.99740  3.38       0.50   \n",
      "19                   17.0                  56.0  0.99690  3.04       1.08   \n",
      "20                   29.0                  60.0  0.99680  3.39       0.53   \n",
      "21                   23.0                  71.0  0.99820  3.52       0.65   \n",
      "22                   10.0                  37.0  0.99660  3.17       0.91   \n",
      "23                    9.0                  67.0  0.99680  3.17       0.53   \n",
      "24                   21.0                  40.0  0.99680  3.43       0.63   \n",
      "25                   11.0                  23.0  0.99550  3.34       0.56   \n",
      "26                    4.0                  11.0  0.99620  3.28       0.59   \n",
      "27                   10.0                  37.0  0.99660  3.17       0.91   \n",
      "28                   14.0                  35.0  0.99720  3.47       0.55   \n",
      "29                    8.0                  16.0  0.99640  3.38       0.59   \n",
      "...                   ...                   ...      ...   ...        ...   \n",
      "1569                 15.0                  34.0  0.99396  3.48       0.57   \n",
      "1570                 19.0                  35.0  0.99340  3.37       0.93   \n",
      "1571                 15.0                  25.0  0.99514  3.44       0.65   \n",
      "1572                 35.0                 104.0  0.99632  3.33       0.51   \n",
      "1573                 15.0                  50.0  0.99467  3.58       0.67   \n",
      "1574                 23.0                  92.0  0.99677  3.39       0.48   \n",
      "1575                 12.0                  20.0  0.99474  3.26       0.64   \n",
      "1576                 16.0                  29.0  0.99588  3.30       0.78   \n",
      "1577                 13.0                  27.0  0.99622  3.54       0.60   \n",
      "1578                 13.0                  20.0  0.99540  3.42       0.67   \n",
      "1579                 24.0                  32.0  0.99402  3.54       0.60   \n",
      "1580                  9.0                  26.0  0.99470  3.36       0.60   \n",
      "1581                 24.0                  32.0  0.99402  3.54       0.60   \n",
      "1582                 13.0                  27.0  0.99362  3.57       0.50   \n",
      "1583                 32.0                  98.0  0.99578  3.33       0.62   \n",
      "1584                 24.0                  34.0  0.99484  3.29       0.80   \n",
      "1585                 22.0                  48.0  0.99494  3.30       0.84   \n",
      "1586                 34.0                  60.0  0.99492  3.34       0.85   \n",
      "1587                 18.0                  28.0  0.99483  3.55       0.66   \n",
      "1588                 34.0                 102.0  0.99414  3.27       0.78   \n",
      "1589                 29.0                  79.0  0.99770  3.29       0.54   \n",
      "1590                 26.0                  35.0  0.99314  3.32       0.82   \n",
      "1591                 16.0                  26.0  0.99402  3.67       0.56   \n",
      "1592                 29.0                  40.0  0.99574  3.42       0.75   \n",
      "1593                 28.0                  38.0  0.99651  3.42       0.82   \n",
      "1594                 32.0                  44.0  0.99490  3.45       0.58   \n",
      "1595                 39.0                  51.0  0.99512  3.52       0.76   \n",
      "1596                 29.0                  40.0  0.99574  3.42       0.75   \n",
      "1597                 32.0                  44.0  0.99547  3.57       0.71   \n",
      "1598                 18.0                  42.0  0.99549  3.39       0.66   \n",
      "\n",
      "      alcohol  quality color  \n",
      "0         9.4        5   red  \n",
      "1         9.8        5   red  \n",
      "2         9.8        5   red  \n",
      "3         9.8        6   red  \n",
      "4         9.4        5   red  \n",
      "5         9.4        5   red  \n",
      "6         9.4        5   red  \n",
      "7        10.0        7   red  \n",
      "8         9.5        7   red  \n",
      "9        10.5        5   red  \n",
      "10        9.2        5   red  \n",
      "11       10.5        5   red  \n",
      "12        9.9        5   red  \n",
      "13        9.1        5   red  \n",
      "14        9.2        5   red  \n",
      "15        9.2        5   red  \n",
      "16       10.5        7   red  \n",
      "17        9.3        5   red  \n",
      "18        9.0        4   red  \n",
      "19        9.2        6   red  \n",
      "20        9.4        6   red  \n",
      "21        9.7        5   red  \n",
      "22        9.5        5   red  \n",
      "23        9.4        5   red  \n",
      "24        9.7        6   red  \n",
      "25        9.3        5   red  \n",
      "26        9.5        5   red  \n",
      "27        9.5        5   red  \n",
      "28        9.4        5   red  \n",
      "29        9.8        6   red  \n",
      "...       ...      ...   ...  \n",
      "1569     11.5        6   red  \n",
      "1570     12.4        6   red  \n",
      "1571     11.1        6   red  \n",
      "1572      9.5        5   red  \n",
      "1573     12.5        6   red  \n",
      "1574     10.5        6   red  \n",
      "1575     11.8        6   red  \n",
      "1576     10.8        6   red  \n",
      "1577     11.9        6   red  \n",
      "1578     11.3        6   red  \n",
      "1579     11.3        5   red  \n",
      "1580     11.9        6   red  \n",
      "1581     11.3        5   red  \n",
      "1582     11.9        5   red  \n",
      "1583      9.8        5   red  \n",
      "1584     11.6        7   red  \n",
      "1585     11.5        6   red  \n",
      "1586     11.4        6   red  \n",
      "1587     10.9        6   red  \n",
      "1588     12.8        6   red  \n",
      "1589      9.2        5   red  \n",
      "1590     11.6        6   red  \n",
      "1591     11.6        6   red  \n",
      "1592     11.0        6   red  \n",
      "1593      9.5        6   red  \n",
      "1594     10.5        5   red  \n",
      "1595     11.2        6   red  \n",
      "1596     11.0        6   red  \n",
      "1597     10.2        5   red  \n",
      "1598     11.0        6   red  \n",
      "\n",
      "[1599 rows x 13 columns]\n",
      "                            OLS Regression Results                            \n",
      "==============================================================================\n",
      "Dep. Variable:                quality   R-squared:                       0.987\n",
      "Model:                            OLS   Adj. R-squared:                  0.987\n",
      "Method:                 Least Squares   F-statistic:                     7731.\n",
      "Date:                Wed, 10 May 2017   Prob (F-statistic):               0.00\n",
      "Time:                        23:58:21   Log-Likelihood:                -1102.4\n",
      "No. Observations:                1119   AIC:                             2227.\n",
      "Df Residuals:                    1108   BIC:                             2282.\n",
      "Df Model:                          11                                         \n",
      "Covariance Type:            nonrobust                                         \n",
      "========================================================================================\n",
      "                           coef    std err          t      P>|t|      [0.025      0.975]\n",
      "----------------------------------------------------------------------------------------\n",
      "fixed_acidity            0.0107      0.019      0.556      0.579      -0.027       0.048\n",
      "volatile_acidity        -1.2014      0.145     -8.304      0.000      -1.485      -0.918\n",
      "citric_acid             -0.2845      0.177     -1.609      0.108      -0.632       0.062\n",
      "residual_sugar           0.0006      0.015      0.042      0.967      -0.029       0.031\n",
      "chlorides               -1.8694      0.503     -3.718      0.000      -2.856      -0.883\n",
      "free_sulfur_dioxide      0.0064      0.003      2.409      0.016       0.001       0.012\n",
      "total_sulfur_dioxide    -0.0039      0.001     -4.380      0.000      -0.006      -0.002\n",
      "density                  4.6683      0.743      6.285      0.000       3.211       6.126\n",
      "pH                      -0.5557      0.191     -2.916      0.004      -0.930      -0.182\n",
      "sulphates                0.8421      0.132      6.361      0.000       0.582       1.102\n",
      "alcohol                  0.3019      0.021     14.598      0.000       0.261       0.342\n",
      "==============================================================================\n",
      "Omnibus:                       18.922   Durbin-Watson:                   2.017\n",
      "Prob(Omnibus):                  0.000   Jarque-Bera (JB):               28.011\n",
      "Skew:                          -0.159   Prob(JB):                     8.27e-07\n",
      "Kurtosis:                       3.707   Cond. No.                     2.40e+03\n",
      "==============================================================================\n",
      "\n",
      "Warnings:\n",
      "[1] Standard Errors assume that the covariance matrix of the errors is correctly specified.\n",
      "[2] The condition number is large, 2.4e+03. This might indicate that there are\n",
      "strong multicollinearity or other numerical problems.\n"
     ]
    }
   ],
   "source": [
    "def ols(data, formula):\n",
    "    # Load inital design matrix\n",
    "    y, X = dmatrices(formula, data=data, return_type='dataframe')\n",
    "\n",
    "    # Fit initial model\n",
    "    X_train, X_test, y_train, y_test = train_test_split(X, y, test_size=0.3, random_state=1)\n",
    "    result = sm.OLS(y_train, X_train).fit()\n",
    "    return result\n",
    "\n",
    "result = ols(dfRed, initialFormula)\n",
    "print dfRed\n",
    "print result.summary()"
   ]
  },
  {
   "cell_type": "code",
   "execution_count": 6,
   "metadata": {},
   "outputs": [
    {
     "name": "stdout",
     "output_type": "stream",
     "text": [
      "                            OLS Regression Results                            \n",
      "==============================================================================\n",
      "Dep. Variable:                quality   R-squared:                       0.987\n",
      "Model:                            OLS   Adj. R-squared:                  0.987\n",
      "Method:                 Least Squares   F-statistic:                 2.045e+04\n",
      "Date:                Wed, 10 May 2017   Prob (F-statistic):               0.00\n",
      "Time:                        23:53:00   Log-Likelihood:                -1127.5\n",
      "No. Observations:                1119   AIC:                             2263.\n",
      "Df Residuals:                    1115   BIC:                             2283.\n",
      "Df Model:                           4                                         \n",
      "Covariance Type:            nonrobust                                         \n",
      "====================================================================================\n",
      "                       coef    std err          t      P>|t|      [0.025      0.975]\n",
      "------------------------------------------------------------------------------------\n",
      "volatile_acidity    -1.2977      0.118    -11.030      0.000      -1.529      -1.067\n",
      "density              2.6654      0.236     11.303      0.000       2.203       3.128\n",
      "sulphates            0.6316      0.120      5.256      0.000       0.396       0.867\n",
      "alcohol              0.3131      0.019     16.721      0.000       0.276       0.350\n",
      "==============================================================================\n",
      "Omnibus:                       17.902   Durbin-Watson:                   2.004\n",
      "Prob(Omnibus):                  0.000   Jarque-Bera (JB):               28.023\n",
      "Skew:                          -0.123   Prob(JB):                     8.22e-07\n",
      "Kurtosis:                       3.735   Cond. No.                         134.\n",
      "==============================================================================\n",
      "\n",
      "Warnings:\n",
      "[1] Standard Errors assume that the covariance matrix of the errors is correctly specified.\n"
     ]
    }
   ],
   "source": [
    "# Looks great! But we can do better\n",
    "# Create new formula and fit new design matrix\n",
    "exemptions = ['color', 'quality', 'fixed_acidity', 'citric_acid', 'residual_sugar', 'free_sulfur_dioxide', 'total_sulfur_dioxide', 'pH', 'chlorides']\n",
    "newFormula = 'quality ~ 0 + ' + \" + \".join([column for column in df if column not in exemptions])\n",
    "result = ols(dfRed, newFormula)\n",
    "print result.summary()"
   ]
  },
  {
   "cell_type": "code",
   "execution_count": 7,
   "metadata": {
    "scrolled": true
   },
   "outputs": [
    {
     "data": {
      "text/plain": [
       "volatile_acidity   -1.297727\n",
       "density             2.665419\n",
       "sulphates           0.631601\n",
       "alcohol             0.313136\n",
       "dtype: float64"
      ]
     },
     "execution_count": 7,
     "metadata": {},
     "output_type": "execute_result"
    }
   ],
   "source": [
    "# Looks great!\n",
    "result.params"
   ]
  },
  {
   "cell_type": "markdown",
   "metadata": {},
   "source": [
    "## White Wines"
   ]
  },
  {
   "cell_type": "code",
   "execution_count": 8,
   "metadata": {},
   "outputs": [
    {
     "name": "stdout",
     "output_type": "stream",
     "text": [
      "                            OLS Regression Results                            \n",
      "==============================================================================\n",
      "Dep. Variable:                quality   R-squared:                       0.984\n",
      "Model:                            OLS   Adj. R-squared:                  0.983\n",
      "Method:                 Least Squares   F-statistic:                 1.853e+04\n",
      "Date:                Wed, 10 May 2017   Prob (F-statistic):               0.00\n",
      "Time:                        23:53:00   Log-Likelihood:                -3933.1\n",
      "No. Observations:                3428   AIC:                             7888.\n",
      "Df Residuals:                    3417   BIC:                             7956.\n",
      "Df Model:                          11                                         \n",
      "Covariance Type:            nonrobust                                         \n",
      "========================================================================================\n",
      "                           coef    std err          t      P>|t|      [0.025      0.975]\n",
      "----------------------------------------------------------------------------------------\n",
      "fixed_acidity           -0.0547      0.018     -2.986      0.003      -0.091      -0.019\n",
      "volatile_acidity        -2.0939      0.135    -15.483      0.000      -2.359      -1.829\n",
      "citric_acid             -0.0507      0.115     -0.441      0.659      -0.276       0.175\n",
      "residual_sugar           0.0276      0.003      8.880      0.000       0.022       0.034\n",
      "chlorides               -1.2006      0.680     -1.766      0.078      -2.534       0.133\n",
      "free_sulfur_dioxide      0.0038      0.001      3.809      0.000       0.002       0.006\n",
      "total_sulfur_dioxide    -0.0005      0.000     -1.004      0.316      -0.001       0.000\n",
      "density                  2.0509      0.424      4.836      0.000       1.219       2.883\n",
      "pH                       0.1571      0.101      1.559      0.119      -0.041       0.355\n",
      "sulphates                0.3709      0.118      3.155      0.002       0.140       0.601\n",
      "alcohol                  0.3744      0.014     27.576      0.000       0.348       0.401\n",
      "==============================================================================\n",
      "Omnibus:                       87.955   Durbin-Watson:                   2.036\n",
      "Prob(Omnibus):                  0.000   Jarque-Bera (JB):              203.502\n",
      "Skew:                           0.064   Prob(JB):                     6.46e-45\n",
      "Kurtosis:                       4.187   Cond. No.                     7.99e+03\n",
      "==============================================================================\n",
      "\n",
      "Warnings:\n",
      "[1] Standard Errors assume that the covariance matrix of the errors is correctly specified.\n",
      "[2] The condition number is large, 7.99e+03. This might indicate that there are\n",
      "strong multicollinearity or other numerical problems.\n"
     ]
    }
   ],
   "source": [
    "# Recreate master formula\n",
    "traitsToExclude = ['color', 'quality']\n",
    "initialFormula = 'quality ~ 0 + ' + \" + \".join([column for column in df if column not in traitsToExclude])\n",
    "\n",
    "result = ols(dfWhite, initialFormula)\n",
    "print result.summary()"
   ]
  },
  {
   "cell_type": "code",
   "execution_count": 9,
   "metadata": {},
   "outputs": [
    {
     "name": "stdout",
     "output_type": "stream",
     "text": [
      "                            OLS Regression Results                            \n",
      "==============================================================================\n",
      "Dep. Variable:                quality   R-squared:                       0.981\n",
      "Model:                            OLS   Adj. R-squared:                  0.981\n",
      "Method:                 Least Squares   F-statistic:                 4.536e+04\n",
      "Date:                Wed, 10 May 2017   Prob (F-statistic):               0.00\n",
      "Time:                        23:53:00   Log-Likelihood:                -4132.6\n",
      "No. Observations:                3428   AIC:                             8273.\n",
      "Df Residuals:                    3424   BIC:                             8298.\n",
      "Df Model:                           4                                         \n",
      "Covariance Type:            nonrobust                                         \n",
      "=======================================================================================\n",
      "                          coef    std err          t      P>|t|      [0.025      0.975]\n",
      "---------------------------------------------------------------------------------------\n",
      "fixed_acidity           0.0548      0.013      4.307      0.000       0.030       0.080\n",
      "residual_sugar          0.0308      0.003     10.354      0.000       0.025       0.037\n",
      "free_sulfur_dioxide     0.0074      0.001      9.177      0.000       0.006       0.009\n",
      "alcohol                 0.4788      0.008     61.853      0.000       0.464       0.494\n",
      "==============================================================================\n",
      "Omnibus:                       99.768   Durbin-Watson:                   2.027\n",
      "Prob(Omnibus):                  0.000   Jarque-Bera (JB):              250.507\n",
      "Skew:                          -0.049   Prob(JB):                     4.01e-55\n",
      "Kurtosis:                       4.321   Cond. No.                         44.3\n",
      "==============================================================================\n",
      "\n",
      "Warnings:\n",
      "[1] Standard Errors assume that the covariance matrix of the errors is correctly specified.\n"
     ]
    }
   ],
   "source": [
    "# Optimize result\n",
    "traitsToExclude = ['color', 'quality', 'volatile_acidity', 'citric_acid', 'chlorides', 'density', 'pH' ,'sulphates', 'total_sulfur_dioxide']\n",
    "newFormula = 'quality ~ 0 + ' + \" + \".join([column for column in df if column not in traitsToExclude])\n",
    "result = ols(dfWhite, newFormula)\n",
    "print result.summary()"
   ]
  },
  {
   "cell_type": "code",
   "execution_count": 10,
   "metadata": {},
   "outputs": [
    {
     "data": {
      "text/plain": [
       "fixed_acidity          0.054813\n",
       "residual_sugar         0.030799\n",
       "free_sulfur_dioxide    0.007426\n",
       "alcohol                0.478847\n",
       "dtype: float64"
      ]
     },
     "execution_count": 10,
     "metadata": {},
     "output_type": "execute_result"
    }
   ],
   "source": [
    "result.params"
   ]
  },
  {
   "cell_type": "markdown",
   "metadata": {},
   "source": [
    "# Logistic Regression"
   ]
  },
  {
   "cell_type": "code",
   "execution_count": 11,
   "metadata": {},
   "outputs": [
    {
     "data": {
      "text/plain": [
       "'color ~ 0 + fixed_acidity + volatile_acidity + citric_acid + residual_sugar + chlorides + free_sulfur_dioxide + total_sulfur_dioxide + density + pH + sulphates + alcohol + quality'"
      ]
     },
     "execution_count": 11,
     "metadata": {},
     "output_type": "execute_result"
    }
   ],
   "source": [
    "# Determine color from other traits\n",
    "\n",
    "# Create formula to identify color\n",
    "formula = \"color ~ 0 + \" + \" + \".join([column for column in df if column != 'color'])\n",
    "formula"
   ]
  },
  {
   "cell_type": "code",
   "execution_count": 12,
   "metadata": {
    "collapsed": true
   },
   "outputs": [],
   "source": [
    "# Split up design matrices\n",
    "Y, X = dmatrices(formula, data=df, return_type=\"dataframe\")\n",
    "# Since color is a binary categorical variable, we can look just for red\n",
    "y = Y['color[red]'].values\n",
    "\n",
    "# Split into test data and fit model\n",
    "X_train, X_test, y_train, y_test = train_test_split(X, y, test_size=0.3, random_state=1)\n",
    "model = LogisticRegression()\n",
    "result = model.fit(X_train, y_train)"
   ]
  },
  {
   "cell_type": "code",
   "execution_count": 13,
   "metadata": {},
   "outputs": [
    {
     "data": {
      "text/plain": [
       "0.97692307692307689"
      ]
     },
     "execution_count": 13,
     "metadata": {},
     "output_type": "execute_result"
    }
   ],
   "source": [
    "# Score model - nice!\n",
    "prediction = model.predict(X_test)\n",
    "metrics.accuracy_score(y_test, prediction)"
   ]
  },
  {
   "cell_type": "code",
   "execution_count": 14,
   "metadata": {},
   "outputs": [
    {
     "data": {
      "text/plain": [
       "density                -2.314404\n",
       "citric_acid            -0.859052\n",
       "alcohol                -0.749829\n",
       "quality                -0.189177\n",
       "residual_sugar         -0.146165\n",
       "total_sulfur_dioxide   -0.064955\n",
       "free_sulfur_dioxide     0.045683\n",
       "fixed_acidity           0.685115\n",
       "pH                      1.918063\n",
       "chlorides               2.019003\n",
       "sulphates               6.924411\n",
       "volatile_acidity        8.144206\n",
       "dtype: float64"
      ]
     },
     "execution_count": 14,
     "metadata": {},
     "output_type": "execute_result"
    }
   ],
   "source": [
    "# What's important?\n",
    "weights = Series(model.coef_[0], index=X.columns.values)\n",
    "weights.sort_values()"
   ]
  },
  {
   "cell_type": "code",
   "execution_count": 15,
   "metadata": {},
   "outputs": [
    {
     "data": {
      "text/plain": [
       "'C(quality) ~ 0 + C(color) + fixed_acidity + volatile_acidity + citric_acid + residual_sugar + chlorides + free_sulfur_dioxide + total_sulfur_dioxide + density + pH + sulphates + alcohol'"
      ]
     },
     "execution_count": 15,
     "metadata": {},
     "output_type": "execute_result"
    }
   ],
   "source": [
    "# Can we make a chart to figure out how great a wine is?\n",
    "traitsToExclude = ['color', 'quality']\n",
    "formula = 'C(quality) ~ 0 + C(color) + ' + \" + \".join([column for column in df if column not in traitsToExclude])\n",
    "formula"
   ]
  },
  {
   "cell_type": "code",
   "execution_count": 16,
   "metadata": {},
   "outputs": [
    {
     "name": "stdout",
     "output_type": "stream",
     "text": [
      "{3: 0.98541666666666672, 4: 0.93541666666666667, 5: 0.7104166666666667, 6: 0.66874999999999996, 7: 0.875, 8: 0.98333333333333328}\n",
      "{3: 0.99319727891156462, 4: 0.94557823129251706, 5: 0.77074829931972788, 6: 0.68095238095238098, 7: 0.81972789115646261, 8: 0.9503401360544218, 9: 0.99863945578231295}\n"
     ]
    },
    {
     "data": {
      "image/png": "[encoded data removed]",
      "text/plain": [
       "<matplotlib.figure.Figure at 0x108e21d90>"
      ]
     },
     "metadata": {},
     "output_type": "display_data"
    },
    {
     "data": {
      "image/png": "[encoded data removed]",
      "text/plain": [
       "<matplotlib.figure.Figure at 0x109066cd0>"
      ]
     },
     "metadata": {},
     "output_type": "display_data"
    }
   ],
   "source": [
    "for idf in [dfRed, dfWhite]:\n",
    "    nums = {}\n",
    "    ratings = idf.quality.unique()\n",
    "    for num in ratings:\n",
    "        Y, X = dmatrices(formula, idf, return_type='dataframe')\n",
    "        y = Y[\"C(quality)[%d]\" % num].values\n",
    "        X_train, X_test, y_train, y_test = train_test_split(X, y, test_size=0.3, random_state=1)\n",
    "        model = tree.DecisionTreeClassifier(criterion='entropy')\n",
    "        result = model.fit(X_train, y_train)\n",
    "        prediction = model.predict(X_test)\n",
    "        nums[num] = metrics.accuracy_score(y_test, prediction)\n",
    "    print nums\n",
    "    numdf = DataFrame(nums.items(), columns=[\"Rating\", \"Accuracy\"])\n",
    "    numdf.plot(x=\"Rating\", y=\"Accuracy\").set_xlabel(\"%s Ratings\" % idf.color.unique()[0].title())"
   ]
  },
  {
   "cell_type": "code",
   "execution_count": 17,
   "metadata": {},
   "outputs": [
    {
     "name": "stderr",
     "output_type": "stream",
     "text": [
      "/Library/Frameworks/Python.framework/Versions/2.7/lib/python2.7/site-packages/sklearn/tree/export.py:386: DeprecationWarning: out_file can be set to None starting from 0.18. This will be the default in 0.20.\n",
      "  DeprecationWarning)\n"
     ]
    },
    {
     "data": {
      "text/plain": [
       "0"
      ]
     },
     "execution_count": 17,
     "metadata": {},
     "output_type": "execute_result"
    }
   ],
   "source": [
    "tree.export_graphviz(model, feature_names=X.columns)\n",
    "os.system('dot -Tpng tree.dot -o tree.png')"
   ]
  },
  {
   "cell_type": "markdown",
   "metadata": {},
   "source": [
    "![9](tree.png)"
   ]
  },
  {
   "cell_type": "code",
   "execution_count": null,
   "metadata": {
    "collapsed": true
   },
   "outputs": [],
   "source": []
  },
  {
   "cell_type": "code",
   "execution_count": 18,
   "metadata": {},
   "outputs": [
    {
     "name": "stdout",
     "output_type": "stream",
     "text": [
      "Red Qualities\n",
      "5    681\n",
      "6    638\n",
      "7    199\n",
      "4     53\n",
      "8     18\n",
      "3     10\n",
      "Name: quality, dtype: int64\n",
      "\n",
      "White Qualities\n",
      "6    2198\n",
      "5    1457\n",
      "7     880\n",
      "8     175\n",
      "4     163\n",
      "3      20\n",
      "9       5\n",
      "Name: quality, dtype: int64\n"
     ]
    }
   ],
   "source": [
    "print \"Red Qualities\"\n",
    "print dfRed['quality'].value_counts()\n",
    "print \"\"\n",
    "print \"White Qualities\"\n",
    "print dfWhite['quality'].value_counts()"
   ]
  },
  {
   "cell_type": "code",
   "execution_count": null,
   "metadata": {
    "collapsed": true
   },
   "outputs": [],
   "source": []
  }
 ],
 "metadata": {
  "kernelspec": {
   "display_name": "Python 2",
   "language": "python",
   "name": "python2"
  },
  "language_info": {
   "codemirror_mode": {
    "name": "ipython",
    "version": 2
   },
   "file_extension": ".py",
   "mimetype": "text/x-python",
   "name": "python",
   "nbconvert_exporter": "python",
   "pygments_lexer": "ipython2",
   "version": "2.7.12"
  }
 },
 "nbformat": 4,
 "nbformat_minor": 2
}
