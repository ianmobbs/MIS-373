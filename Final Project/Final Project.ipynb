{
 "cells": [
  {
   "cell_type": "markdown",
   "metadata": {},
   "source": [
    "## Imports"
   ]
  },
  {
   "cell_type": "code",
   "execution_count": 58,
   "metadata": {},
   "outputs": [
    {
     "name": "stdout",
     "output_type": "stream",
     "text": [
      "Populating the interactive namespace from numpy and matplotlib\n"
     ]
    }
   ],
   "source": [
    "# Determine quality from other traits\n",
    "# Cluster and determine wine type\n",
    "\n",
    "import pandas as pd\n",
    "from pandas import DataFrame, Series\n",
    "from patsy import dmatrices\n",
    "from sklearn.model_selection import train_test_split\n",
    "from sklearn.linear_model import LogisticRegression\n",
    "from sklearn import metrics\n",
    "from sklearn import tree\n",
    "import statsmodels.api as sm\n",
    "import os\n",
    "\n",
    "%pylab inline"
   ]
  },
  {
   "cell_type": "markdown",
   "metadata": {},
   "source": [
    "# OLS Regression\n",
    "\n",
    "Determining wine quality from all other factors\n",
    "\n",
    "## Setup"
   ]
  },
  {
   "cell_type": "markdown",
   "metadata": {},
   "source": [
    "Assemble the red and white dataframes, then concatenate them into a master dataframe."
   ]
  },
  {
   "cell_type": "code",
   "execution_count": 59,
   "metadata": {},
   "outputs": [
    {
     "data": {
      "text/html": [
       "<div>\n",
       "<table border=\"1\" class=\"dataframe\">\n",
       "  <thead>\n",
       "    <tr style=\"text-align: right;\">\n",
       "      <th></th>\n",
       "      <th>fixed_acidity</th>\n",
       "      <th>volatile_acidity</th>\n",
       "      <th>citric_acid</th>\n",
       "      <th>residual_sugar</th>\n",
       "      <th>chlorides</th>\n",
       "      <th>free_sulfur_dioxide</th>\n",
       "      <th>total_sulfur_dioxide</th>\n",
       "      <th>density</th>\n",
       "      <th>pH</th>\n",
       "      <th>sulphates</th>\n",
       "      <th>alcohol</th>\n",
       "      <th>quality</th>\n",
       "      <th>color</th>\n",
       "    </tr>\n",
       "  </thead>\n",
       "  <tbody>\n",
       "    <tr>\n",
       "      <th>0</th>\n",
       "      <td>7.4</td>\n",
       "      <td>0.70</td>\n",
       "      <td>0.00</td>\n",
       "      <td>1.9</td>\n",
       "      <td>0.076</td>\n",
       "      <td>11.0</td>\n",
       "      <td>34.0</td>\n",
       "      <td>0.9978</td>\n",
       "      <td>3.51</td>\n",
       "      <td>0.56</td>\n",
       "      <td>9.4</td>\n",
       "      <td>5</td>\n",
       "      <td>red</td>\n",
       "    </tr>\n",
       "    <tr>\n",
       "      <th>1</th>\n",
       "      <td>7.8</td>\n",
       "      <td>0.88</td>\n",
       "      <td>0.00</td>\n",
       "      <td>2.6</td>\n",
       "      <td>0.098</td>\n",
       "      <td>25.0</td>\n",
       "      <td>67.0</td>\n",
       "      <td>0.9968</td>\n",
       "      <td>3.20</td>\n",
       "      <td>0.68</td>\n",
       "      <td>9.8</td>\n",
       "      <td>5</td>\n",
       "      <td>red</td>\n",
       "    </tr>\n",
       "    <tr>\n",
       "      <th>2</th>\n",
       "      <td>7.8</td>\n",
       "      <td>0.76</td>\n",
       "      <td>0.04</td>\n",
       "      <td>2.3</td>\n",
       "      <td>0.092</td>\n",
       "      <td>15.0</td>\n",
       "      <td>54.0</td>\n",
       "      <td>0.9970</td>\n",
       "      <td>3.26</td>\n",
       "      <td>0.65</td>\n",
       "      <td>9.8</td>\n",
       "      <td>5</td>\n",
       "      <td>red</td>\n",
       "    </tr>\n",
       "    <tr>\n",
       "      <th>3</th>\n",
       "      <td>11.2</td>\n",
       "      <td>0.28</td>\n",
       "      <td>0.56</td>\n",
       "      <td>1.9</td>\n",
       "      <td>0.075</td>\n",
       "      <td>17.0</td>\n",
       "      <td>60.0</td>\n",
       "      <td>0.9980</td>\n",
       "      <td>3.16</td>\n",
       "      <td>0.58</td>\n",
       "      <td>9.8</td>\n",
       "      <td>6</td>\n",
       "      <td>red</td>\n",
       "    </tr>\n",
       "    <tr>\n",
       "      <th>4</th>\n",
       "      <td>7.4</td>\n",
       "      <td>0.70</td>\n",
       "      <td>0.00</td>\n",
       "      <td>1.9</td>\n",
       "      <td>0.076</td>\n",
       "      <td>11.0</td>\n",
       "      <td>34.0</td>\n",
       "      <td>0.9978</td>\n",
       "      <td>3.51</td>\n",
       "      <td>0.56</td>\n",
       "      <td>9.4</td>\n",
       "      <td>5</td>\n",
       "      <td>red</td>\n",
       "    </tr>\n",
       "  </tbody>\n",
       "</table>\n",
       "</div>"
      ],
      "text/plain": [
       "   fixed_acidity  volatile_acidity  citric_acid  residual_sugar  chlorides  \\\n",
       "0            7.4              0.70         0.00             1.9      0.076   \n",
       "1            7.8              0.88         0.00             2.6      0.098   \n",
       "2            7.8              0.76         0.04             2.3      0.092   \n",
       "3           11.2              0.28         0.56             1.9      0.075   \n",
       "4            7.4              0.70         0.00             1.9      0.076   \n",
       "\n",
       "   free_sulfur_dioxide  total_sulfur_dioxide  density    pH  sulphates  \\\n",
       "0                 11.0                  34.0   0.9978  3.51       0.56   \n",
       "1                 25.0                  67.0   0.9968  3.20       0.68   \n",
       "2                 15.0                  54.0   0.9970  3.26       0.65   \n",
       "3                 17.0                  60.0   0.9980  3.16       0.58   \n",
       "4                 11.0                  34.0   0.9978  3.51       0.56   \n",
       "\n",
       "   alcohol  quality color  \n",
       "0      9.4        5   red  \n",
       "1      9.8        5   red  \n",
       "2      9.8        5   red  \n",
       "3      9.8        6   red  \n",
       "4      9.4        5   red  "
      ]
     },
     "execution_count": 59,
     "metadata": {},
     "output_type": "execute_result"
    }
   ],
   "source": [
    "# Load red wines\n",
    "names = ['fixed_acidity', 'volatile_acidity', 'citric_acid', 'residual_sugar', 'chlorides', 'free_sulfur_dioxide', 'total_sulfur_dioxide', 'density', 'pH', 'sulphates', 'alcohol', 'quality', 'color']\n",
    "\n",
    "dfRed = pd.read_csv('data/winequality-red.csv', sep=\";\")\n",
    "dfRed['color'] = 'red'\n",
    "dfRed.columns = names\n",
    "\n",
    "# Load white wines\n",
    "dfWhite = pd.read_csv('data/winequality-white.csv', sep=\";\")\n",
    "dfWhite['color'] = 'white'\n",
    "dfWhite.columns = names\n",
    "\n",
    "# Create master dataframe\n",
    "df = pd.concat([dfRed, dfWhite])\n",
    "df = df.reset_index(drop=True)\n",
    "\n",
    "df[:5]"
   ]
  },
  {
   "cell_type": "markdown",
   "metadata": {},
   "source": [
    "Create formula for the quality of a wine from all other variables"
   ]
  },
  {
   "cell_type": "code",
   "execution_count": 60,
   "metadata": {},
   "outputs": [
    {
     "data": {
      "text/plain": [
       "'quality ~ 0 + fixed_acidity + volatile_acidity + citric_acid + residual_sugar + chlorides + free_sulfur_dioxide + total_sulfur_dioxide + density + pH + sulphates + alcohol'"
      ]
     },
     "execution_count": 60,
     "metadata": {},
     "output_type": "execute_result"
    }
   ],
   "source": [
    "# Exclude color (categorical) and quality from regressing on quality\n",
    "traitsToExclude = ['color', 'quality']\n",
    "\n",
    "# Generate formula\n",
    "initialFormula = 'quality ~ 0 + ' + \" + \".join([column for column in df if column not in traitsToExclude])\n",
    "initialFormula"
   ]
  },
  {
   "cell_type": "markdown",
   "metadata": {},
   "source": [
    "## Red Wines\n",
    "\n",
    "Run regression on red wines"
   ]
  },
  {
   "cell_type": "code",
   "execution_count": 61,
   "metadata": {
    "scrolled": true
   },
   "outputs": [
    {
     "name": "stdout",
     "output_type": "stream",
     "text": [
      "                            OLS Regression Results                            \n",
      "==============================================================================\n",
      "Dep. Variable:                quality   R-squared:                       0.987\n",
      "Model:                            OLS   Adj. R-squared:                  0.987\n",
      "Method:                 Least Squares   F-statistic:                     7731.\n",
      "Date:                Sun, 30 Apr 2017   Prob (F-statistic):               0.00\n",
      "Time:                        15:03:03   Log-Likelihood:                -1102.4\n",
      "No. Observations:                1119   AIC:                             2227.\n",
      "Df Residuals:                    1108   BIC:                             2282.\n",
      "Df Model:                          11                                         \n",
      "Covariance Type:            nonrobust                                         \n",
      "========================================================================================\n",
      "                           coef    std err          t      P>|t|      [0.025      0.975]\n",
      "----------------------------------------------------------------------------------------\n",
      "fixed_acidity            0.0107      0.019      0.556      0.579      -0.027       0.048\n",
      "volatile_acidity        -1.2014      0.145     -8.304      0.000      -1.485      -0.918\n",
      "citric_acid             -0.2845      0.177     -1.609      0.108      -0.632       0.062\n",
      "residual_sugar           0.0006      0.015      0.042      0.967      -0.029       0.031\n",
      "chlorides               -1.8694      0.503     -3.718      0.000      -2.856      -0.883\n",
      "free_sulfur_dioxide      0.0064      0.003      2.409      0.016       0.001       0.012\n",
      "total_sulfur_dioxide    -0.0039      0.001     -4.380      0.000      -0.006      -0.002\n",
      "density                  4.6683      0.743      6.285      0.000       3.211       6.126\n",
      "pH                      -0.5557      0.191     -2.916      0.004      -0.930      -0.182\n",
      "sulphates                0.8421      0.132      6.361      0.000       0.582       1.102\n",
      "alcohol                  0.3019      0.021     14.598      0.000       0.261       0.342\n",
      "==============================================================================\n",
      "Omnibus:                       18.922   Durbin-Watson:                   2.017\n",
      "Prob(Omnibus):                  0.000   Jarque-Bera (JB):               28.011\n",
      "Skew:                          -0.159   Prob(JB):                     8.27e-07\n",
      "Kurtosis:                       3.707   Cond. No.                     2.40e+03\n",
      "==============================================================================\n",
      "\n",
      "Warnings:\n",
      "[1] Standard Errors assume that the covariance matrix of the errors is correctly specified.\n",
      "[2] The condition number is large, 2.4e+03. This might indicate that there are\n",
      "strong multicollinearity or other numerical problems.\n"
     ]
    }
   ],
   "source": [
    "def ols(data, formula):\n",
    "    # Load inital design matrix\n",
    "    y, X = dmatrices(formula, data=data, return_type='dataframe')\n",
    "\n",
    "    # Fit initial model\n",
    "    X_train, X_test, y_train, y_test = train_test_split(X, y, test_size=0.3, random_state=1)\n",
    "    model = sm.OLS(y_train, X_train)\n",
    "    result = model.fit()\n",
    "    return result\n",
    "\n",
    "result = ols(dfRed, initialFormula)\n",
    "print result.summary()"
   ]
  },
  {
   "cell_type": "code",
   "execution_count": 62,
   "metadata": {},
   "outputs": [
    {
     "name": "stdout",
     "output_type": "stream",
     "text": [
      "                            OLS Regression Results                            \n",
      "==============================================================================\n",
      "Dep. Variable:                quality   R-squared:                       0.987\n",
      "Model:                            OLS   Adj. R-squared:                  0.987\n",
      "Method:                 Least Squares   F-statistic:                 2.045e+04\n",
      "Date:                Sun, 30 Apr 2017   Prob (F-statistic):               0.00\n",
      "Time:                        15:03:03   Log-Likelihood:                -1127.5\n",
      "No. Observations:                1119   AIC:                             2263.\n",
      "Df Residuals:                    1115   BIC:                             2283.\n",
      "Df Model:                           4                                         \n",
      "Covariance Type:            nonrobust                                         \n",
      "====================================================================================\n",
      "                       coef    std err          t      P>|t|      [0.025      0.975]\n",
      "------------------------------------------------------------------------------------\n",
      "volatile_acidity    -1.2977      0.118    -11.030      0.000      -1.529      -1.067\n",
      "density              2.6654      0.236     11.303      0.000       2.203       3.128\n",
      "sulphates            0.6316      0.120      5.256      0.000       0.396       0.867\n",
      "alcohol              0.3131      0.019     16.721      0.000       0.276       0.350\n",
      "==============================================================================\n",
      "Omnibus:                       17.902   Durbin-Watson:                   2.004\n",
      "Prob(Omnibus):                  0.000   Jarque-Bera (JB):               28.023\n",
      "Skew:                          -0.123   Prob(JB):                     8.22e-07\n",
      "Kurtosis:                       3.735   Cond. No.                         134.\n",
      "==============================================================================\n",
      "\n",
      "Warnings:\n",
      "[1] Standard Errors assume that the covariance matrix of the errors is correctly specified.\n"
     ]
    }
   ],
   "source": [
    "# Looks great! But we can do better\n",
    "# Create new formula and fit new design matrix\n",
    "exemptions = ['color', 'quality', 'fixed_acidity', 'citric_acid', 'residual_sugar', 'free_sulfur_dioxide', 'total_sulfur_dioxide', 'pH', 'chlorides']\n",
    "newFormula = 'quality ~ 0 + ' + \" + \".join([column for column in df if column not in exemptions])\n",
    "result = ols(dfRed, newFormula)\n",
    "print result.summary()"
   ]
  },
  {
   "cell_type": "code",
   "execution_count": 63,
   "metadata": {
    "scrolled": true
   },
   "outputs": [
    {
     "data": {
      "text/plain": [
       "volatile_acidity   -1.297727\n",
       "density             2.665419\n",
       "sulphates           0.631601\n",
       "alcohol             0.313136\n",
       "dtype: float64"
      ]
     },
     "execution_count": 63,
     "metadata": {},
     "output_type": "execute_result"
    }
   ],
   "source": [
    "# Looks great!\n",
    "result.params"
   ]
  },
  {
   "cell_type": "markdown",
   "metadata": {},
   "source": [
    "## White Wines"
   ]
  },
  {
   "cell_type": "code",
   "execution_count": 64,
   "metadata": {},
   "outputs": [
    {
     "name": "stdout",
     "output_type": "stream",
     "text": [
      "                            OLS Regression Results                            \n",
      "==============================================================================\n",
      "Dep. Variable:                quality   R-squared:                       0.984\n",
      "Model:                            OLS   Adj. R-squared:                  0.983\n",
      "Method:                 Least Squares   F-statistic:                 1.853e+04\n",
      "Date:                Sun, 30 Apr 2017   Prob (F-statistic):               0.00\n",
      "Time:                        15:03:04   Log-Likelihood:                -3933.1\n",
      "No. Observations:                3428   AIC:                             7888.\n",
      "Df Residuals:                    3417   BIC:                             7956.\n",
      "Df Model:                          11                                         \n",
      "Covariance Type:            nonrobust                                         \n",
      "========================================================================================\n",
      "                           coef    std err          t      P>|t|      [0.025      0.975]\n",
      "----------------------------------------------------------------------------------------\n",
      "fixed_acidity           -0.0547      0.018     -2.986      0.003      -0.091      -0.019\n",
      "volatile_acidity        -2.0939      0.135    -15.483      0.000      -2.359      -1.829\n",
      "citric_acid             -0.0507      0.115     -0.441      0.659      -0.276       0.175\n",
      "residual_sugar           0.0276      0.003      8.880      0.000       0.022       0.034\n",
      "chlorides               -1.2006      0.680     -1.766      0.078      -2.534       0.133\n",
      "free_sulfur_dioxide      0.0038      0.001      3.809      0.000       0.002       0.006\n",
      "total_sulfur_dioxide    -0.0005      0.000     -1.004      0.316      -0.001       0.000\n",
      "density                  2.0509      0.424      4.836      0.000       1.219       2.883\n",
      "pH                       0.1571      0.101      1.559      0.119      -0.041       0.355\n",
      "sulphates                0.3709      0.118      3.155      0.002       0.140       0.601\n",
      "alcohol                  0.3744      0.014     27.576      0.000       0.348       0.401\n",
      "==============================================================================\n",
      "Omnibus:                       87.955   Durbin-Watson:                   2.036\n",
      "Prob(Omnibus):                  0.000   Jarque-Bera (JB):              203.502\n",
      "Skew:                           0.064   Prob(JB):                     6.46e-45\n",
      "Kurtosis:                       4.187   Cond. No.                     7.99e+03\n",
      "==============================================================================\n",
      "\n",
      "Warnings:\n",
      "[1] Standard Errors assume that the covariance matrix of the errors is correctly specified.\n",
      "[2] The condition number is large, 7.99e+03. This might indicate that there are\n",
      "strong multicollinearity or other numerical problems.\n"
     ]
    }
   ],
   "source": [
    "# Recreate master formula\n",
    "traitsToExclude = ['color', 'quality']\n",
    "initialFormula = 'quality ~ 0 + ' + \" + \".join([column for column in df if column not in traitsToExclude])\n",
    "\n",
    "result = ols(dfWhite, initialFormula)\n",
    "print result.summary()"
   ]
  },
  {
   "cell_type": "code",
   "execution_count": 65,
   "metadata": {},
   "outputs": [
    {
     "name": "stdout",
     "output_type": "stream",
     "text": [
      "                            OLS Regression Results                            \n",
      "==============================================================================\n",
      "Dep. Variable:                quality   R-squared:                       0.981\n",
      "Model:                            OLS   Adj. R-squared:                  0.981\n",
      "Method:                 Least Squares   F-statistic:                 4.536e+04\n",
      "Date:                Sun, 30 Apr 2017   Prob (F-statistic):               0.00\n",
      "Time:                        15:03:04   Log-Likelihood:                -4132.6\n",
      "No. Observations:                3428   AIC:                             8273.\n",
      "Df Residuals:                    3424   BIC:                             8298.\n",
      "Df Model:                           4                                         \n",
      "Covariance Type:            nonrobust                                         \n",
      "=======================================================================================\n",
      "                          coef    std err          t      P>|t|      [0.025      0.975]\n",
      "---------------------------------------------------------------------------------------\n",
      "fixed_acidity           0.0548      0.013      4.307      0.000       0.030       0.080\n",
      "residual_sugar          0.0308      0.003     10.354      0.000       0.025       0.037\n",
      "free_sulfur_dioxide     0.0074      0.001      9.177      0.000       0.006       0.009\n",
      "alcohol                 0.4788      0.008     61.853      0.000       0.464       0.494\n",
      "==============================================================================\n",
      "Omnibus:                       99.768   Durbin-Watson:                   2.027\n",
      "Prob(Omnibus):                  0.000   Jarque-Bera (JB):              250.507\n",
      "Skew:                          -0.049   Prob(JB):                     4.01e-55\n",
      "Kurtosis:                       4.321   Cond. No.                         44.3\n",
      "==============================================================================\n",
      "\n",
      "Warnings:\n",
      "[1] Standard Errors assume that the covariance matrix of the errors is correctly specified.\n"
     ]
    }
   ],
   "source": [
    "# Optimize result\n",
    "traitsToExclude = ['color', 'quality', 'volatile_acidity', 'citric_acid', 'chlorides', 'density', 'pH' ,'sulphates', 'total_sulfur_dioxide']\n",
    "newFormula = 'quality ~ 0 + ' + \" + \".join([column for column in df if column not in traitsToExclude])\n",
    "result = ols(dfWhite, newFormula)\n",
    "print result.summary()"
   ]
  },
  {
   "cell_type": "code",
   "execution_count": 66,
   "metadata": {},
   "outputs": [
    {
     "data": {
      "text/plain": [
       "fixed_acidity          0.054813\n",
       "residual_sugar         0.030799\n",
       "free_sulfur_dioxide    0.007426\n",
       "alcohol                0.478847\n",
       "dtype: float64"
      ]
     },
     "execution_count": 66,
     "metadata": {},
     "output_type": "execute_result"
    }
   ],
   "source": [
    "result.params"
   ]
  },
  {
   "cell_type": "markdown",
   "metadata": {},
   "source": [
    "# Logistic Regression"
   ]
  },
  {
   "cell_type": "code",
   "execution_count": 67,
   "metadata": {},
   "outputs": [
    {
     "data": {
      "text/plain": [
       "'color ~ 0 + fixed_acidity + volatile_acidity + citric_acid + residual_sugar + chlorides + free_sulfur_dioxide + total_sulfur_dioxide + density + pH + sulphates + alcohol + quality'"
      ]
     },
     "execution_count": 67,
     "metadata": {},
     "output_type": "execute_result"
    }
   ],
   "source": [
    "# Determine color from other traits\n",
    "\n",
    "# Create formula to identify color\n",
    "formula = \"color ~ 0 + \" + \" + \".join([column for column in df if column != 'color'])\n",
    "formula"
   ]
  },
  {
   "cell_type": "code",
   "execution_count": 68,
   "metadata": {
    "collapsed": true
   },
   "outputs": [],
   "source": [
    "# Split up design matrices\n",
    "Y, X = dmatrices(formula, data=df, return_type=\"dataframe\")\n",
    "# Since color is a binary categorical variable, we can look just for red\n",
    "y = Y['color[red]'].values\n",
    "\n",
    "# Split into test data and fit model\n",
    "X_train, X_test, y_train, y_test = train_test_split(X, y, test_size=0.3, random_state=1)\n",
    "model = LogisticRegression()\n",
    "result = model.fit(X_train, y_train)"
   ]
  },
  {
   "cell_type": "code",
   "execution_count": 69,
   "metadata": {},
   "outputs": [
    {
     "data": {
      "text/plain": [
       "0.97692307692307689"
      ]
     },
     "execution_count": 69,
     "metadata": {},
     "output_type": "execute_result"
    }
   ],
   "source": [
    "# Score model - nice!\n",
    "prediction = model.predict(X_test)\n",
    "metrics.accuracy_score(y_test, prediction)"
   ]
  },
  {
   "cell_type": "code",
   "execution_count": 70,
   "metadata": {},
   "outputs": [
    {
     "data": {
      "text/plain": [
       "density                -2.315548\n",
       "citric_acid            -0.857329\n",
       "alcohol                -0.749802\n",
       "quality                -0.189379\n",
       "residual_sugar         -0.146161\n",
       "total_sulfur_dioxide   -0.064951\n",
       "free_sulfur_dioxide     0.045673\n",
       "fixed_acidity           0.685058\n",
       "pH                      1.919069\n",
       "chlorides               2.019862\n",
       "sulphates               6.924902\n",
       "volatile_acidity        8.142736\n",
       "dtype: float64"
      ]
     },
     "execution_count": 70,
     "metadata": {},
     "output_type": "execute_result"
    }
   ],
   "source": [
    "# What's important?\n",
    "weights = Series(model.coef_[0], index=X.columns.values)\n",
    "weights.sort_values()"
   ]
  },
  {
   "cell_type": "code",
   "execution_count": 71,
   "metadata": {},
   "outputs": [
    {
     "data": {
      "text/plain": [
       "'C(quality) ~ 0 + C(color) + fixed_acidity + volatile_acidity + citric_acid + residual_sugar + chlorides + free_sulfur_dioxide + total_sulfur_dioxide + density + pH + sulphates + alcohol'"
      ]
     },
     "execution_count": 71,
     "metadata": {},
     "output_type": "execute_result"
    }
   ],
   "source": [
    "# Can we make a chart to figure out how great a wine is?\n",
    "traitsToExclude = ['color', 'quality']\n",
    "formula = 'C(quality) ~ 0 + C(color) + ' + \" + \".join([column for column in df if column not in traitsToExclude])\n",
    "formula"
   ]
  },
  {
   "cell_type": "code",
   "execution_count": 76,
   "metadata": {},
   "outputs": [
    {
     "data": {
      "text/plain": [
       "array([6, 5, 7, 8, 4, 3, 9])"
      ]
     },
     "execution_count": 76,
     "metadata": {},
     "output_type": "execute_result"
    }
   ],
   "source": []
  },
  {
   "cell_type": "code",
   "execution_count": 82,
   "metadata": {},
   "outputs": [
    {
     "name": "stdout",
     "output_type": "stream",
     "text": [
      "{3: 0.9916666666666667, 4: 0.93541666666666667, 5: 0.68333333333333335, 6: 0.67083333333333328, 7: 0.88124999999999998, 8: 0.98333333333333328}\n",
      "{3: 0.9938775510204082, 4: 0.94965986394557822, 5: 0.76598639455782314, 6: 0.66938775510204085, 7: 0.81564625850340133, 8: 0.94897959183673475, 9: 1.0}\n"
     ]
    },
    {
     "data": {
      "image/png": "[encoded data removed]",
      "text/plain": [
       "<matplotlib.figure.Figure at 0x10ad9a1d0>"
      ]
     },
     "metadata": {},
     "output_type": "display_data"
    },
    {
     "data": {
      "image/png": "[encoded data removed]",
      "text/plain": [
       "<matplotlib.figure.Figure at 0x10acc6750>"
      ]
     },
     "metadata": {},
     "output_type": "display_data"
    }
   ],
   "source": [
    "for idf in [dfRed, dfWhite]:\n",
    "    nums = {}\n",
    "    ratings = idf.quality.unique()\n",
    "    for num in ratings:\n",
    "        Y, X = dmatrices(formula, idf, return_type='dataframe')\n",
    "        y = Y[\"C(quality)[%d]\" % num].values\n",
    "        X_train, X_test, y_train, y_test = train_test_split(X, y, test_size=0.3, random_state=1)\n",
    "        model = tree.DecisionTreeClassifier(criterion='entropy')\n",
    "        result = model.fit(X_train, y_train)\n",
    "        prediction = model.predict(X_test)\n",
    "        nums[num] = metrics.accuracy_score(y_test, prediction)\n",
    "    print nums\n",
    "    numdf = DataFrame(nums.items(), columns=[\"Rating\", \"Accuracy\"])\n",
    "    numdf.plot(x=\"Rating\", y=\"Accuracy\").set_xlabel(\"%s Ratings\" % idf.color.unique()[0].title())"
   ]
  },
  {
   "cell_type": "code",
   "execution_count": null,
   "metadata": {},
   "outputs": [],
   "source": [
    "tree.export_graphviz(model, feature_names=X.columns)\n",
    "os.system('dot -Tpng tree.dot -o tree.png')"
   ]
  },
  {
   "cell_type": "markdown",
   "metadata": {},
   "source": [
    "![9](tree.png)"
   ]
  },
  {
   "cell_type": "code",
   "execution_count": null,
   "metadata": {
    "collapsed": true
   },
   "outputs": [],
   "source": []
  },
  {
   "cell_type": "code",
   "execution_count": 83,
   "metadata": {},
   "outputs": [
    {
     "name": "stdout",
     "output_type": "stream",
     "text": [
      "Red Qualities\n",
      "5    681\n",
      "6    638\n",
      "7    199\n",
      "4     53\n",
      "8     18\n",
      "3     10\n",
      "Name: quality, dtype: int64\n",
      "\n",
      "White Qualities\n",
      "6    2198\n",
      "5    1457\n",
      "7     880\n",
      "8     175\n",
      "4     163\n",
      "3      20\n",
      "9       5\n",
      "Name: quality, dtype: int64\n"
     ]
    }
   ],
   "source": [
    "print \"Red Qualities\"\n",
    "print dfRed['quality'].value_counts()\n",
    "print \"\"\n",
    "print \"White Qualities\"\n",
    "print dfWhite['quality'].value_counts()"
   ]
  },
  {
   "cell_type": "code",
   "execution_count": null,
   "metadata": {
    "collapsed": true
   },
   "outputs": [],
   "source": []
  }
 ],
 "metadata": {
  "kernelspec": {
   "display_name": "Python 2",
   "language": "python",
   "name": "python2"
  },
  "language_info": {
   "codemirror_mode": {
    "name": "ipython",
    "version": 2
   },
   "file_extension": ".py",
   "mimetype": "text/x-python",
   "name": "python",
   "nbconvert_exporter": "python",
   "pygments_lexer": "ipython2",
   "version": "2.7.12"
  }
 },
 "nbformat": 4,
 "nbformat_minor": 2
}
