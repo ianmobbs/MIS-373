{
 "cells": [
  {
   "cell_type": "code",
   "execution_count": 39,
   "metadata": {},
   "outputs": [
    {
     "name": "stdout",
     "output_type": "stream",
     "text": [
      "Populating the interactive namespace from numpy and matplotlib\n"
     ]
    }
   ],
   "source": [
    "# Determine quality from other traits\n",
    "# Determine color from other traits\n",
    "# Cluster and determine wine type\n",
    "# Find most important traits for wine quality\n",
    "\n",
    "import pandas as pd\n",
    "from patsy import dmatrices\n",
    "from sklearn.model_selection import train_test_split\n",
    "from sklearn.linear_model import LogisticRegression\n",
    "from sklearn import metrics\n",
    "import statsmodels.api as sm\n",
    "\n",
    "%pylab inline"
   ]
  },
  {
   "cell_type": "code",
   "execution_count": 51,
   "metadata": {},
   "outputs": [
    {
     "data": {
      "text/html": [
       "<div>\n",
       "<table border=\"1\" class=\"dataframe\">\n",
       "  <thead>\n",
       "    <tr style=\"text-align: right;\">\n",
       "      <th></th>\n",
       "      <th>fixed acidity</th>\n",
       "      <th>volatile acidity</th>\n",
       "      <th>citric acid</th>\n",
       "      <th>residual sugar</th>\n",
       "      <th>chlorides</th>\n",
       "      <th>free sulfur dioxide</th>\n",
       "      <th>total sulfur dioxide</th>\n",
       "      <th>density</th>\n",
       "      <th>pH</th>\n",
       "      <th>sulphates</th>\n",
       "      <th>alcohol</th>\n",
       "      <th>quality</th>\n",
       "      <th>color</th>\n",
       "    </tr>\n",
       "  </thead>\n",
       "  <tbody>\n",
       "    <tr>\n",
       "      <th>0</th>\n",
       "      <td>7.4</td>\n",
       "      <td>0.70</td>\n",
       "      <td>0.00</td>\n",
       "      <td>1.9</td>\n",
       "      <td>0.076</td>\n",
       "      <td>11.0</td>\n",
       "      <td>34.0</td>\n",
       "      <td>0.9978</td>\n",
       "      <td>3.51</td>\n",
       "      <td>0.56</td>\n",
       "      <td>9.4</td>\n",
       "      <td>5</td>\n",
       "      <td>red</td>\n",
       "    </tr>\n",
       "    <tr>\n",
       "      <th>1</th>\n",
       "      <td>7.8</td>\n",
       "      <td>0.88</td>\n",
       "      <td>0.00</td>\n",
       "      <td>2.6</td>\n",
       "      <td>0.098</td>\n",
       "      <td>25.0</td>\n",
       "      <td>67.0</td>\n",
       "      <td>0.9968</td>\n",
       "      <td>3.20</td>\n",
       "      <td>0.68</td>\n",
       "      <td>9.8</td>\n",
       "      <td>5</td>\n",
       "      <td>red</td>\n",
       "    </tr>\n",
       "    <tr>\n",
       "      <th>2</th>\n",
       "      <td>7.8</td>\n",
       "      <td>0.76</td>\n",
       "      <td>0.04</td>\n",
       "      <td>2.3</td>\n",
       "      <td>0.092</td>\n",
       "      <td>15.0</td>\n",
       "      <td>54.0</td>\n",
       "      <td>0.9970</td>\n",
       "      <td>3.26</td>\n",
       "      <td>0.65</td>\n",
       "      <td>9.8</td>\n",
       "      <td>5</td>\n",
       "      <td>red</td>\n",
       "    </tr>\n",
       "    <tr>\n",
       "      <th>3</th>\n",
       "      <td>11.2</td>\n",
       "      <td>0.28</td>\n",
       "      <td>0.56</td>\n",
       "      <td>1.9</td>\n",
       "      <td>0.075</td>\n",
       "      <td>17.0</td>\n",
       "      <td>60.0</td>\n",
       "      <td>0.9980</td>\n",
       "      <td>3.16</td>\n",
       "      <td>0.58</td>\n",
       "      <td>9.8</td>\n",
       "      <td>6</td>\n",
       "      <td>red</td>\n",
       "    </tr>\n",
       "    <tr>\n",
       "      <th>4</th>\n",
       "      <td>7.4</td>\n",
       "      <td>0.70</td>\n",
       "      <td>0.00</td>\n",
       "      <td>1.9</td>\n",
       "      <td>0.076</td>\n",
       "      <td>11.0</td>\n",
       "      <td>34.0</td>\n",
       "      <td>0.9978</td>\n",
       "      <td>3.51</td>\n",
       "      <td>0.56</td>\n",
       "      <td>9.4</td>\n",
       "      <td>5</td>\n",
       "      <td>red</td>\n",
       "    </tr>\n",
       "  </tbody>\n",
       "</table>\n",
       "</div>"
      ],
      "text/plain": [
       "   fixed acidity  volatile acidity  citric acid  residual sugar  chlorides  \\\n",
       "0            7.4              0.70         0.00             1.9      0.076   \n",
       "1            7.8              0.88         0.00             2.6      0.098   \n",
       "2            7.8              0.76         0.04             2.3      0.092   \n",
       "3           11.2              0.28         0.56             1.9      0.075   \n",
       "4            7.4              0.70         0.00             1.9      0.076   \n",
       "\n",
       "   free sulfur dioxide  total sulfur dioxide  density    pH  sulphates  \\\n",
       "0                 11.0                  34.0   0.9978  3.51       0.56   \n",
       "1                 25.0                  67.0   0.9968  3.20       0.68   \n",
       "2                 15.0                  54.0   0.9970  3.26       0.65   \n",
       "3                 17.0                  60.0   0.9980  3.16       0.58   \n",
       "4                 11.0                  34.0   0.9978  3.51       0.56   \n",
       "\n",
       "   alcohol  quality color  \n",
       "0      9.4        5   red  \n",
       "1      9.8        5   red  \n",
       "2      9.8        5   red  \n",
       "3      9.8        6   red  \n",
       "4      9.4        5   red  "
      ]
     },
     "execution_count": 51,
     "metadata": {},
     "output_type": "execute_result"
    }
   ],
   "source": [
    "# Load red wines\n",
    "dfRed = pd.read_csv('data/winequality-red.csv', sep=\";\")\n",
    "dfRed['color'] = 'red'\n",
    "\n",
    "# Load white wines\n",
    "dfWhite = pd.read_csv('data/winequality-white.csv', sep=\";\")\n",
    "dfWhite['color'] = 'white'\n",
    "\n",
    "# Create master dataframe\n",
    "df = pd.concat([dfRed, dfWhite])\n",
    "df = df.reset_index(drop=True)\n",
    "\n",
    "df[:5]"
   ]
  },
  {
   "cell_type": "code",
   "execution_count": 41,
   "metadata": {},
   "outputs": [
    {
     "data": {
      "text/plain": [
       "white    4898\n",
       "red      1599\n",
       "Name: color, dtype: int64"
      ]
     },
     "execution_count": 41,
     "metadata": {},
     "output_type": "execute_result"
    }
   ],
   "source": [
    "# Cool stat!\n",
    "df['color'].value_counts()"
   ]
  },
  {
   "cell_type": "code",
   "execution_count": 42,
   "metadata": {},
   "outputs": [
    {
     "data": {
      "text/plain": [
       "'quality ~ 0 + Q(\"fixed acidity\") + Q(\"volatile acidity\") + Q(\"citric acid\") + Q(\"residual sugar\") + Q(\"chlorides\") + Q(\"free sulfur dioxide\") + Q(\"total sulfur dioxide\") + Q(\"density\") + Q(\"pH\") + Q(\"sulphates\") + Q(\"alcohol\")'"
      ]
     },
     "execution_count": 42,
     "metadata": {},
     "output_type": "execute_result"
    }
   ],
   "source": [
    "# Exclude color (categorical) and quality from regressing on quality\n",
    "traitsToExclude = ['color', 'quality']\n",
    "initialFormula = 'quality ~ 0 + ' + \" + \".join(['Q(\"'+x+'\")' for x in df if x not in traitsToExclude])\n",
    "initialFormula"
   ]
  },
  {
   "cell_type": "code",
   "execution_count": 43,
   "metadata": {
    "scrolled": true
   },
   "outputs": [
    {
     "name": "stdout",
     "output_type": "stream",
     "text": [
      "                            OLS Regression Results                            \n",
      "==============================================================================\n",
      "Dep. Variable:                quality   R-squared:                       0.984\n",
      "Model:                            OLS   Adj. R-squared:                  0.984\n",
      "Method:                 Least Squares   F-statistic:                 2.577e+04\n",
      "Date:                Sat, 29 Apr 2017   Prob (F-statistic):               0.00\n",
      "Time:                        13:59:53   Log-Likelihood:                -5075.8\n",
      "No. Observations:                4547   AIC:                         1.017e+04\n",
      "Df Residuals:                    4536   BIC:                         1.024e+04\n",
      "Df Model:                          11                                         \n",
      "Covariance Type:            nonrobust                                         \n",
      "=============================================================================================\n",
      "                                coef    std err          t      P>|t|      [0.025      0.975]\n",
      "---------------------------------------------------------------------------------------------\n",
      "Q(\"fixed acidity\")            0.0036      0.011      0.311      0.756      -0.019       0.026\n",
      "Q(\"volatile acidity\")        -1.4223      0.087    -16.361      0.000      -1.593      -1.252\n",
      "Q(\"citric acid\")             -0.1241      0.096     -1.292      0.196      -0.312       0.064\n",
      "Q(\"residual sugar\")           0.0227      0.003      7.833      0.000       0.017       0.028\n",
      "Q(\"chlorides\")               -0.8214      0.386     -2.127      0.033      -1.578      -0.064\n",
      "Q(\"free sulfur dioxide\")      0.0058      0.001      6.526      0.000       0.004       0.008\n",
      "Q(\"total sulfur dioxide\")    -0.0021      0.000     -6.560      0.000      -0.003      -0.002\n",
      "Q(\"density\")                  2.1889      0.337      6.486      0.000       1.527       2.851\n",
      "Q(\"pH\")                       0.0711      0.084      0.850      0.396      -0.093       0.235\n",
      "Q(\"sulphates\")                0.6714      0.086      7.776      0.000       0.502       0.841\n",
      "Q(\"alcohol\")                  0.3383      0.011     31.252      0.000       0.317       0.360\n",
      "==============================================================================\n",
      "Omnibus:                      109.512   Durbin-Watson:                   2.074\n",
      "Prob(Omnibus):                  0.000   Jarque-Bera (JB):              254.895\n",
      "Skew:                          -0.003   Prob(JB):                     4.47e-56\n",
      "Kurtosis:                       4.160   Cond. No.                     4.95e+03\n",
      "==============================================================================\n",
      "\n",
      "Warnings:\n",
      "[1] Standard Errors assume that the covariance matrix of the errors is correctly specified.\n",
      "[2] The condition number is large, 4.95e+03. This might indicate that there are\n",
      "strong multicollinearity or other numerical problems.\n"
     ]
    }
   ],
   "source": [
    "y, X = dmatrices(initialFormula, data=df, return_type='dataframe')\n",
    "\n",
    "X_train, X_test, y_train, y_test = train_test_split(X, y, test_size=0.3, random_state=1)\n",
    "model = sm.OLS(y_train, X_train)\n",
    "result = model.fit()\n",
    "print result.summary()"
   ]
  },
  {
   "cell_type": "code",
   "execution_count": 44,
   "metadata": {},
   "outputs": [
    {
     "name": "stdout",
     "output_type": "stream",
     "text": [
      "                            OLS Regression Results                            \n",
      "==============================================================================\n",
      "Dep. Variable:                quality   R-squared:                       0.984\n",
      "Model:                            OLS   Adj. R-squared:                  0.984\n",
      "Method:                 Least Squares   F-statistic:                 3.997e+04\n",
      "Date:                Sat, 29 Apr 2017   Prob (F-statistic):               0.00\n",
      "Time:                        13:59:53   Log-Likelihood:                -5107.0\n",
      "No. Observations:                4547   AIC:                         1.023e+04\n",
      "Df Residuals:                    4540   BIC:                         1.027e+04\n",
      "Df Model:                           7                                         \n",
      "Covariance Type:            nonrobust                                         \n",
      "=============================================================================================\n",
      "                                coef    std err          t      P>|t|      [0.025      0.975]\n",
      "---------------------------------------------------------------------------------------------\n",
      "Q(\"volatile acidity\")        -1.4151      0.077    -18.456      0.000      -1.565      -1.265\n",
      "Q(\"residual sugar\")           0.0297      0.003     10.797      0.000       0.024       0.035\n",
      "Q(\"free sulfur dioxide\")      0.0053      0.001      5.959      0.000       0.004       0.007\n",
      "Q(\"total sulfur dioxide\")    -0.0016      0.000     -5.125      0.000      -0.002      -0.001\n",
      "Q(\"pH\")                       0.5885      0.039     15.130      0.000       0.512       0.665\n",
      "Q(\"sulphates\")                0.6640      0.079      8.455      0.000       0.510       0.818\n",
      "Q(\"alcohol\")                  0.3727      0.009     39.692      0.000       0.354       0.391\n",
      "==============================================================================\n",
      "Omnibus:                      115.881   Durbin-Watson:                   2.076\n",
      "Prob(Omnibus):                  0.000   Jarque-Bera (JB):              276.386\n",
      "Skew:                          -0.025   Prob(JB):                     9.63e-61\n",
      "Kurtosis:                       4.207   Cond. No.                         988.\n",
      "==============================================================================\n",
      "\n",
      "Warnings:\n",
      "[1] Standard Errors assume that the covariance matrix of the errors is correctly specified.\n"
     ]
    }
   ],
   "source": [
    "simpleFormula = 'quality ~ 0 + ' + \" + \".join(['Q(\"'+x+'\")' for x in df if x not in ['color', 'quality', 'fixed acidity', 'density', 'citric acid', 'chlorides']])\n",
    "y, X = dmatrices(simpleFormula, data=df, return_type='dataframe')\n",
    "\n",
    "X_train, X_test, y_train, y_test = train_test_split(X, y, test_size=0.3, random_state=1)\n",
    "model = sm.OLS(y_train, X_train)\n",
    "result = model.fit()\n",
    "print result.summary()"
   ]
  },
  {
   "cell_type": "code",
   "execution_count": 50,
   "metadata": {},
   "outputs": [
    {
     "data": {
      "text/plain": [
       "Q(\"volatile acidity\")       -1.415096\n",
       "Q(\"residual sugar\")          0.029670\n",
       "Q(\"free sulfur dioxide\")     0.005345\n",
       "Q(\"total sulfur dioxide\")   -0.001572\n",
       "Q(\"pH\")                      0.588491\n",
       "Q(\"sulphates\")               0.663992\n",
       "Q(\"alcohol\")                 0.372699\n",
       "dtype: float64"
      ]
     },
     "execution_count": 50,
     "metadata": {},
     "output_type": "execute_result"
    }
   ],
   "source": [
    "result.params"
   ]
  },
  {
   "cell_type": "code",
   "execution_count": null,
   "metadata": {
    "collapsed": true
   },
   "outputs": [],
   "source": []
  }
 ],
 "metadata": {
  "kernelspec": {
   "display_name": "Python 2",
   "language": "python",
   "name": "python2"
  },
  "language_info": {
   "codemirror_mode": {
    "name": "ipython",
    "version": 2
   },
   "file_extension": ".py",
   "mimetype": "text/x-python",
   "name": "python",
   "nbconvert_exporter": "python",
   "pygments_lexer": "ipython2",
   "version": "2.7.12"
  }
 },
 "nbformat": 4,
 "nbformat_minor": 2
}
