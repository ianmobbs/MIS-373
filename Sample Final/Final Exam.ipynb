{
 "cells": [
  {
   "cell_type": "code",
   "execution_count": 1,
   "metadata": {},
   "outputs": [
    {
     "name": "stdout",
     "output_type": "stream",
     "text": [
      "Populating the interactive namespace from numpy and matplotlib\n"
     ]
    }
   ],
   "source": [
    "from pandas import Series, DataFrame\n",
    "import pandas as pd\n",
    "%pylab inline"
   ]
  },
  {
   "cell_type": "markdown",
   "metadata": {},
   "source": [
    "# Setup\n",
    "\n",
    "Please rename this notebook from \"Final Exam\" to \"Final Exam &lt;Your Name&gt;\" (e.g., \"Final Exam Deepayan Chakrabarti\").\n",
    "\n",
    "There are four GROUPS of questions:\n",
    "\n",
    "1. **Q1-Q3** about Concepts regarding classification\n",
    "2. **Q4-Q9** about exploratory analysis (Chicago Public Schools)\n",
    "3. **Q10-Q12** about time series analysis (Investor Sentiment)\n",
    "4. **Q13-Q15** about regression and classification (Investor Sentiment)\n",
    "\n",
    "For each question, we have provided two cells: a Markdown cell, and a Code cell. Please provide a brief description of your approach in the Markdown cells. This is especially useful if you don't get time to work on the code itself, or can't quite get it to work perfectly. If the code is pretty trivial (say, just reading in a file), you don't need to describe it :-)"
   ]
  },
  {
   "cell_type": "markdown",
   "metadata": {},
   "source": [
    "### Question 1 (10 points)\n",
    "\n",
    "Consider the following dataset, with two features (the x and y axis) and two classes (red and blue).\n",
    "![Rectangles](rects.png)"
   ]
  },
  {
   "cell_type": "markdown",
   "metadata": {},
   "source": [
    "(a) Can this dataset be classified well using decision trees? Provide a brief (1-2 lines) explanation."
   ]
  },
  {
   "cell_type": "markdown",
   "metadata": {},
   "source": [
    "#### Answer\n",
    "\n",
    "Yes, because there is a clear way to check whether or not something is of a red or blue class with just a few questions. All red points lie between (-0.5, 0.5) on the x-axis and (-0.5, 0.5) on the y-axis - anything else is a blue point."
   ]
  },
  {
   "cell_type": "markdown",
   "metadata": {},
   "source": [
    "(b) Can this dataset be classified well using logistic regression? Provide a brief (1-2 lines) explanation."
   ]
  },
  {
   "cell_type": "markdown",
   "metadata": {},
   "source": [
    "#### Answer\n",
    "\n",
    "No, because many blue points have similar features to the red points (same x-axis or same y-axis, never both)."
   ]
  },
  {
   "cell_type": "markdown",
   "metadata": {},
   "source": [
    "### Question 2 (10 points)\n",
    "\n",
    "Consider the following dataset, with two features (the x and y axis) and two classes (red and blue).\n",
    "![Rotated Rectangles](rectsrotated.png)"
   ]
  },
  {
   "cell_type": "markdown",
   "metadata": {},
   "source": [
    "(a) Can this dataset be classified well using decision trees? Provide a brief (1-2 lines) explanation."
   ]
  },
  {
   "cell_type": "markdown",
   "metadata": {},
   "source": [
    "#### Answer\n",
    "\n",
    "No, because the 'boundaries' of the inner diamond have a slope other than 0 or 1 - meaning that there's no single \"yes or no\" question one can ask about x-axis to y-axis to determine whether a point lies in the inner diamond."
   ]
  },
  {
   "cell_type": "markdown",
   "metadata": {},
   "source": [
    "(b) Can this dataset be classified well using logistic regression? Provide a brief (1-2 lines) explanation."
   ]
  },
  {
   "cell_type": "markdown",
   "metadata": {},
   "source": [
    "#### Answer\n",
    "\n",
    "Yes, because the slope of the boundaries is not 0 or 1."
   ]
  },
  {
   "cell_type": "markdown",
   "metadata": {},
   "source": [
    "### Question 3 (5 points)\n",
    "\n",
    "Consider the following dataset, with two features (the x and y axis) and two classes (red and blue).\n",
    "![Points](closepoints.png)\n",
    "\n",
    "Suppose we use k-nearest-neighbors with k=3 neighbors to classify the each point in this dataset using all the remaining points. What will be the training accuracy? Give a brief (1-2 lines) explanation."
   ]
  },
  {
   "cell_type": "markdown",
   "metadata": {},
   "source": [
    "#### Answer\n",
    "\n",
    "It's accuracy will be 0%. Each cluster has 4 points, 2 red and 2 blue. Trying to find the classification of 1 based on the other 3 will always result in 2 of the other colored point and 1 of the same colored point, and it's classification will always be wrong."
   ]
  },
  {
   "cell_type": "markdown",
   "metadata": {},
   "source": [
    "---\n",
    "\n",
    "## Questions 4-9 use the ChicagoPublicSchools.csv dataset."
   ]
  },
  {
   "cell_type": "markdown",
   "metadata": {},
   "source": [
    "### Question 4 (2 pts):\n",
    "    Read in \"ChicagoPublicSchools.csv\" and print the first line. \n",
    "    \n",
    "_Hint:_ some of the fields are numbers, so do not specify 'dtype=unicode'."
   ]
  },
  {
   "cell_type": "markdown",
   "metadata": {},
   "source": [
    "#### Description\n"
   ]
  },
  {
   "cell_type": "code",
   "execution_count": 2,
   "metadata": {},
   "outputs": [
    {
     "data": {
      "text/html": [
       "<div>\n",
       "<table border=\"1\" class=\"dataframe\">\n",
       "  <thead>\n",
       "    <tr style=\"text-align: right;\">\n",
       "      <th></th>\n",
       "      <th>School ID</th>\n",
       "      <th>Name of School</th>\n",
       "      <th>Elementary, Middle, or High School</th>\n",
       "      <th>Street Address</th>\n",
       "      <th>City</th>\n",
       "      <th>State</th>\n",
       "      <th>ZIP Code</th>\n",
       "      <th>Network Manager</th>\n",
       "      <th>Collaborative Name</th>\n",
       "      <th>Safety Score</th>\n",
       "      <th>...</th>\n",
       "      <th>Parent Engagement Score</th>\n",
       "      <th>Parent Environment Score</th>\n",
       "      <th>Average Student Attendance</th>\n",
       "      <th>Rate of Misconducts (per 100 students)</th>\n",
       "      <th>Average Teacher Attendance</th>\n",
       "      <th>College Eligibility %</th>\n",
       "      <th>Graduation Rate %</th>\n",
       "      <th>College Enrollment Rate %</th>\n",
       "      <th>College Enrollment</th>\n",
       "      <th>Community Area Name</th>\n",
       "    </tr>\n",
       "  </thead>\n",
       "  <tbody>\n",
       "    <tr>\n",
       "      <th>0</th>\n",
       "      <td>610038</td>\n",
       "      <td>Abraham Lincoln Elementary School</td>\n",
       "      <td>ES</td>\n",
       "      <td>615 W Kemper Pl</td>\n",
       "      <td>Chicago</td>\n",
       "      <td>IL</td>\n",
       "      <td>60614</td>\n",
       "      <td>Fullerton Elementary Network</td>\n",
       "      <td>NORTH-NORTHWEST SIDE COLLABORATIVE</td>\n",
       "      <td>99.0</td>\n",
       "      <td>...</td>\n",
       "      <td>56.0</td>\n",
       "      <td>47.0</td>\n",
       "      <td>0.960</td>\n",
       "      <td>2.0</td>\n",
       "      <td>0.964</td>\n",
       "      <td>NaN</td>\n",
       "      <td>NaN</td>\n",
       "      <td>NaN</td>\n",
       "      <td>813</td>\n",
       "      <td>LINCOLN PARK</td>\n",
       "    </tr>\n",
       "    <tr>\n",
       "      <th>1</th>\n",
       "      <td>610281</td>\n",
       "      <td>Adam Clayton Powell Paideia Community Academy ...</td>\n",
       "      <td>ES</td>\n",
       "      <td>7511 S South Shore Dr</td>\n",
       "      <td>Chicago</td>\n",
       "      <td>IL</td>\n",
       "      <td>60649</td>\n",
       "      <td>Skyway Elementary Network</td>\n",
       "      <td>SOUTH SIDE COLLABORATIVE</td>\n",
       "      <td>54.0</td>\n",
       "      <td>...</td>\n",
       "      <td>46.0</td>\n",
       "      <td>50.0</td>\n",
       "      <td>0.956</td>\n",
       "      <td>15.7</td>\n",
       "      <td>0.953</td>\n",
       "      <td>NaN</td>\n",
       "      <td>NaN</td>\n",
       "      <td>NaN</td>\n",
       "      <td>521</td>\n",
       "      <td>SOUTH SHORE</td>\n",
       "    </tr>\n",
       "    <tr>\n",
       "      <th>2</th>\n",
       "      <td>610185</td>\n",
       "      <td>Adlai E Stevenson Elementary School</td>\n",
       "      <td>ES</td>\n",
       "      <td>8010 S Kostner Ave</td>\n",
       "      <td>Chicago</td>\n",
       "      <td>IL</td>\n",
       "      <td>60652</td>\n",
       "      <td>Midway Elementary Network</td>\n",
       "      <td>SOUTHWEST SIDE COLLABORATIVE</td>\n",
       "      <td>61.0</td>\n",
       "      <td>...</td>\n",
       "      <td>47.0</td>\n",
       "      <td>41.0</td>\n",
       "      <td>0.957</td>\n",
       "      <td>2.3</td>\n",
       "      <td>0.947</td>\n",
       "      <td>NaN</td>\n",
       "      <td>NaN</td>\n",
       "      <td>NaN</td>\n",
       "      <td>1324</td>\n",
       "      <td>ASHBURN</td>\n",
       "    </tr>\n",
       "    <tr>\n",
       "      <th>3</th>\n",
       "      <td>609993</td>\n",
       "      <td>Agustin Lara Elementary Academy</td>\n",
       "      <td>ES</td>\n",
       "      <td>4619 S Wolcott Ave</td>\n",
       "      <td>Chicago</td>\n",
       "      <td>IL</td>\n",
       "      <td>60609</td>\n",
       "      <td>Pershing Elementary Network</td>\n",
       "      <td>SOUTHWEST SIDE COLLABORATIVE</td>\n",
       "      <td>56.0</td>\n",
       "      <td>...</td>\n",
       "      <td>53.0</td>\n",
       "      <td>58.0</td>\n",
       "      <td>0.955</td>\n",
       "      <td>10.4</td>\n",
       "      <td>0.958</td>\n",
       "      <td>NaN</td>\n",
       "      <td>NaN</td>\n",
       "      <td>NaN</td>\n",
       "      <td>556</td>\n",
       "      <td>NEW CITY</td>\n",
       "    </tr>\n",
       "    <tr>\n",
       "      <th>4</th>\n",
       "      <td>610513</td>\n",
       "      <td>Air Force Academy High School</td>\n",
       "      <td>HS</td>\n",
       "      <td>3630 S Wells St</td>\n",
       "      <td>Chicago</td>\n",
       "      <td>IL</td>\n",
       "      <td>60609</td>\n",
       "      <td>Southwest Side High School Network</td>\n",
       "      <td>SOUTHWEST SIDE COLLABORATIVE</td>\n",
       "      <td>49.0</td>\n",
       "      <td>...</td>\n",
       "      <td>53.0</td>\n",
       "      <td>49.0</td>\n",
       "      <td>0.933</td>\n",
       "      <td>15.6</td>\n",
       "      <td>0.969</td>\n",
       "      <td>NaN</td>\n",
       "      <td>NaN</td>\n",
       "      <td>NaN</td>\n",
       "      <td>302</td>\n",
       "      <td>ARMOUR SQUARE</td>\n",
       "    </tr>\n",
       "  </tbody>\n",
       "</table>\n",
       "<p>5 rows × 25 columns</p>\n",
       "</div>"
      ],
      "text/plain": [
       "   School ID                                     Name of School  \\\n",
       "0     610038                  Abraham Lincoln Elementary School   \n",
       "1     610281  Adam Clayton Powell Paideia Community Academy ...   \n",
       "2     610185                Adlai E Stevenson Elementary School   \n",
       "3     609993                    Agustin Lara Elementary Academy   \n",
       "4     610513                      Air Force Academy High School   \n",
       "\n",
       "  Elementary, Middle, or High School          Street Address     City State  \\\n",
       "0                                 ES        615 W Kemper Pl   Chicago    IL   \n",
       "1                                 ES  7511 S South Shore Dr   Chicago    IL   \n",
       "2                                 ES     8010 S Kostner Ave   Chicago    IL   \n",
       "3                                 ES     4619 S Wolcott Ave   Chicago    IL   \n",
       "4                                 HS        3630 S Wells St   Chicago    IL   \n",
       "\n",
       "   ZIP Code                     Network Manager  \\\n",
       "0     60614        Fullerton Elementary Network   \n",
       "1     60649           Skyway Elementary Network   \n",
       "2     60652           Midway Elementary Network   \n",
       "3     60609         Pershing Elementary Network   \n",
       "4     60609  Southwest Side High School Network   \n",
       "\n",
       "                   Collaborative Name  Safety Score         ...           \\\n",
       "0  NORTH-NORTHWEST SIDE COLLABORATIVE          99.0         ...            \n",
       "1            SOUTH SIDE COLLABORATIVE          54.0         ...            \n",
       "2        SOUTHWEST SIDE COLLABORATIVE          61.0         ...            \n",
       "3        SOUTHWEST SIDE COLLABORATIVE          56.0         ...            \n",
       "4        SOUTHWEST SIDE COLLABORATIVE          49.0         ...            \n",
       "\n",
       "   Parent Engagement Score  Parent Environment Score  \\\n",
       "0                     56.0                      47.0   \n",
       "1                     46.0                      50.0   \n",
       "2                     47.0                      41.0   \n",
       "3                     53.0                      58.0   \n",
       "4                     53.0                      49.0   \n",
       "\n",
       "   Average Student Attendance  Rate of Misconducts (per 100 students)  \\\n",
       "0                       0.960                                     2.0   \n",
       "1                       0.956                                    15.7   \n",
       "2                       0.957                                     2.3   \n",
       "3                       0.955                                    10.4   \n",
       "4                       0.933                                    15.6   \n",
       "\n",
       "   Average Teacher Attendance  College Eligibility %  Graduation Rate %  \\\n",
       "0                       0.964                    NaN                NaN   \n",
       "1                       0.953                    NaN                NaN   \n",
       "2                       0.947                    NaN                NaN   \n",
       "3                       0.958                    NaN                NaN   \n",
       "4                       0.969                    NaN                NaN   \n",
       "\n",
       "   College Enrollment Rate %  College Enrollment  Community Area Name  \n",
       "0                        NaN                 813         LINCOLN PARK  \n",
       "1                        NaN                 521          SOUTH SHORE  \n",
       "2                        NaN                1324              ASHBURN  \n",
       "3                        NaN                 556             NEW CITY  \n",
       "4                        NaN                 302        ARMOUR SQUARE  \n",
       "\n",
       "[5 rows x 25 columns]"
      ]
     },
     "execution_count": 2,
     "metadata": {},
     "output_type": "execute_result"
    }
   ],
   "source": [
    "df = pd.read_csv(\"ChicagoPublicSchools.csv\")\n",
    "df[:5]"
   ]
  },
  {
   "cell_type": "markdown",
   "metadata": {},
   "source": [
    "### Question 5 (2 points)\n",
    "    How many schools are there?"
   ]
  },
  {
   "cell_type": "markdown",
   "metadata": {},
   "source": [
    "#### Description:\n"
   ]
  },
  {
   "cell_type": "code",
   "execution_count": 9,
   "metadata": {},
   "outputs": [
    {
     "name": "stdout",
     "output_type": "stream",
     "text": [
      "There are 566 schools in the dataset\n"
     ]
    }
   ],
   "source": [
    "print \"There are\", len(df), \"schools in the dataset\""
   ]
  },
  {
   "cell_type": "markdown",
   "metadata": {},
   "source": [
    "### Question 6 (7 points)\n",
    "    Plot the number of schools against Community Area Name for the top 10 community areas."
   ]
  },
  {
   "cell_type": "markdown",
   "metadata": {},
   "source": [
    "#### Description"
   ]
  },
  {
   "cell_type": "code",
   "execution_count": 21,
   "metadata": {},
   "outputs": [
    {
     "name": "stderr",
     "output_type": "stream",
     "text": [
      "/Library/Frameworks/Python.framework/Versions/2.7/lib/python2.7/site-packages/ipykernel/__main__.py:1: FutureWarning: sort(columns=....) is deprecated, use sort_values(by=.....)\n",
      "  if __name__ == '__main__':\n"
     ]
    },
    {
     "data": {
      "text/plain": [
       "<matplotlib.axes.AxesSubplot at 0x106973050>"
      ]
     },
     "execution_count": 21,
     "metadata": {},
     "output_type": "execute_result"
    },
    {
     "data": {
      "image/png": "[encoded data removed]",
      "text/plain": [
       "<matplotlib.figure.Figure at 0x1069c0a50>"
      ]
     },
     "metadata": {},
     "output_type": "display_data"
    }
   ],
   "source": [
    "df[['School ID', 'Community Area Name']].groupby('Community Area Name').count().sort('School ID', ascending=False)[:10].plot(kind='bar')"
   ]
  },
  {
   "cell_type": "markdown",
   "metadata": {},
   "source": [
    "### Question 7 (7 points):\n",
    "    Show a plot of the number of community areas under each collaborative."
   ]
  },
  {
   "cell_type": "markdown",
   "metadata": {},
   "source": [
    "#### Description"
   ]
  },
  {
   "cell_type": "code",
   "execution_count": 29,
   "metadata": {},
   "outputs": [
    {
     "name": "stderr",
     "output_type": "stream",
     "text": [
      "/Library/Frameworks/Python.framework/Versions/2.7/lib/python2.7/site-packages/ipykernel/__main__.py:1: FutureWarning: sort(columns=....) is deprecated, use sort_values(by=.....)\n",
      "  if __name__ == '__main__':\n"
     ]
    },
    {
     "data": {
      "text/plain": [
       "<matplotlib.axes.AxesSubplot at 0x106be1410>"
      ]
     },
     "execution_count": 29,
     "metadata": {},
     "output_type": "execute_result"
    },
    {
     "data": {
      "image/png": "[encoded data removed]",
      "text/plain": [
       "<matplotlib.figure.Figure at 0x106bf5210>"
      ]
     },
     "metadata": {},
     "output_type": "display_data"
    }
   ],
   "source": [
    "df[['Collaborative Name', 'Community Area Name']].groupby('Collaborative Name').count().sort('Community Area Name', ascending=False).plot(kind='bar')"
   ]
  },
  {
   "cell_type": "markdown",
   "metadata": {},
   "source": [
    "### Question 8 (7 points)\n",
    "    Find the Community Area Names for the top-10 schools with highest rates of misconduct."
   ]
  },
  {
   "cell_type": "markdown",
   "metadata": {},
   "source": [
    "#### Description"
   ]
  },
  {
   "cell_type": "code",
   "execution_count": 34,
   "metadata": {},
   "outputs": [
    {
     "name": "stderr",
     "output_type": "stream",
     "text": [
      "/Library/Frameworks/Python.framework/Versions/2.7/lib/python2.7/site-packages/ipykernel/__main__.py:1: FutureWarning: sort(columns=....) is deprecated, use sort_values(by=.....)\n",
      "  if __name__ == '__main__':\n"
     ]
    },
    {
     "data": {
      "text/plain": [
       "['NORTH LAWLE',\n",
       " 'NORTH CENTER',\n",
       " 'NEAR WEST SIDE',\n",
       " 'MORGAN PARK',\n",
       " 'IRVING PARK',\n",
       " 'EDISON PARK',\n",
       " 'CHATHAM',\n",
       " 'BELMONT CRAGIN',\n",
       " 'NEAR NORTH SIDE',\n",
       " 'PULLMAN']"
      ]
     },
     "execution_count": 34,
     "metadata": {},
     "output_type": "execute_result"
    }
   ],
   "source": [
    "list(df.sort('Rate of Misconducts (per 100 students)')[:10]['Community Area Name'].unique())"
   ]
  },
  {
   "cell_type": "markdown",
   "metadata": {},
   "source": [
    "### Question 9 (7 points)\n",
    "    For each Collaborative, find the school with the highest rate of misconduct."
   ]
  },
  {
   "cell_type": "markdown",
   "metadata": {},
   "source": [
    "#### Description"
   ]
  },
  {
   "cell_type": "code",
   "execution_count": 49,
   "metadata": {},
   "outputs": [
    {
     "data": {
      "text/html": [
       "<div>\n",
       "<table border=\"1\" class=\"dataframe\">\n",
       "  <thead>\n",
       "    <tr style=\"text-align: right;\">\n",
       "      <th></th>\n",
       "      <th>Name of School</th>\n",
       "      <th>Rate of Misconducts (per 100 students)</th>\n",
       "    </tr>\n",
       "    <tr>\n",
       "      <th>Collaborative Name</th>\n",
       "      <th></th>\n",
       "      <th></th>\n",
       "    </tr>\n",
       "  </thead>\n",
       "  <tbody>\n",
       "    <tr>\n",
       "      <th>FAR SOUTH SIDE COLLABORATIVE</th>\n",
       "      <td>William E B Dubois Elementary School</td>\n",
       "      <td>90.0</td>\n",
       "    </tr>\n",
       "    <tr>\n",
       "      <th>NORTH-NORTHWEST SIDE COLLABORATIVE</th>\n",
       "      <td>Wolfgang A Mozart Elementary School</td>\n",
       "      <td>77.0</td>\n",
       "    </tr>\n",
       "    <tr>\n",
       "      <th>SOUTH SIDE COLLABORATIVE</th>\n",
       "      <td>Woodlawn Community Elementary School</td>\n",
       "      <td>156.6</td>\n",
       "    </tr>\n",
       "    <tr>\n",
       "      <th>SOUTHWEST SIDE COLLABORATIVE</th>\n",
       "      <td>William T Sherman Elementary School</td>\n",
       "      <td>230.6</td>\n",
       "    </tr>\n",
       "    <tr>\n",
       "      <th>WEST SIDE COLLABORATIVE</th>\n",
       "      <td>World Language Academy High School</td>\n",
       "      <td>251.6</td>\n",
       "    </tr>\n",
       "  </tbody>\n",
       "</table>\n",
       "</div>"
      ],
      "text/plain": [
       "                                                          Name of School  \\\n",
       "Collaborative Name                                                         \n",
       "FAR SOUTH SIDE COLLABORATIVE        William E B Dubois Elementary School   \n",
       "NORTH-NORTHWEST SIDE COLLABORATIVE   Wolfgang A Mozart Elementary School   \n",
       "SOUTH SIDE COLLABORATIVE            Woodlawn Community Elementary School   \n",
       "SOUTHWEST SIDE COLLABORATIVE         William T Sherman Elementary School   \n",
       "WEST SIDE COLLABORATIVE               World Language Academy High School   \n",
       "\n",
       "                                    Rate of Misconducts (per 100 students)  \n",
       "Collaborative Name                                                          \n",
       "FAR SOUTH SIDE COLLABORATIVE                                          90.0  \n",
       "NORTH-NORTHWEST SIDE COLLABORATIVE                                    77.0  \n",
       "SOUTH SIDE COLLABORATIVE                                             156.6  \n",
       "SOUTHWEST SIDE COLLABORATIVE                                         230.6  \n",
       "WEST SIDE COLLABORATIVE                                              251.6  "
      ]
     },
     "execution_count": 49,
     "metadata": {},
     "output_type": "execute_result"
    }
   ],
   "source": [
    "df[['Name of School', 'Rate of Misconducts (per 100 students)', 'Collaborative Name']].groupby(['Collaborative Name']).max()"
   ]
  },
  {
   "cell_type": "markdown",
   "metadata": {
    "collapsed": true
   },
   "source": [
    "---\n",
    "\n",
    "## Questions 10-12 use the Investor_Sentiment_Data.csv dataset.\n",
    "\n",
    "Setup for the next few questions: Read in investor sentiment data, and set _Date_ as the index. Use the following code."
   ]
  },
  {
   "cell_type": "code",
   "execution_count": 50,
   "metadata": {},
   "outputs": [
    {
     "data": {
      "text/html": [
       "<div>\n",
       "<table border=\"1\" class=\"dataframe\">\n",
       "  <thead>\n",
       "    <tr style=\"text-align: right;\">\n",
       "      <th></th>\n",
       "      <th>Bullish</th>\n",
       "      <th>Neutral</th>\n",
       "      <th>Bearish</th>\n",
       "      <th>Total</th>\n",
       "      <th>S&amp;P 500 Weekly High</th>\n",
       "      <th>S&amp;P 500 Weekly Low</th>\n",
       "      <th>S&amp;P 500 Weekly Close</th>\n",
       "    </tr>\n",
       "    <tr>\n",
       "      <th>Date</th>\n",
       "      <th></th>\n",
       "      <th></th>\n",
       "      <th></th>\n",
       "      <th></th>\n",
       "      <th></th>\n",
       "      <th></th>\n",
       "      <th></th>\n",
       "    </tr>\n",
       "  </thead>\n",
       "  <tbody>\n",
       "    <tr>\n",
       "      <th>1987-08-07</th>\n",
       "      <td>0.56</td>\n",
       "      <td>0.15</td>\n",
       "      <td>0.29</td>\n",
       "      <td>1.0</td>\n",
       "      <td>323.00</td>\n",
       "      <td>316.23</td>\n",
       "      <td>323.00</td>\n",
       "    </tr>\n",
       "    <tr>\n",
       "      <th>1987-07-31</th>\n",
       "      <td>0.26</td>\n",
       "      <td>0.48</td>\n",
       "      <td>0.26</td>\n",
       "      <td>1.0</td>\n",
       "      <td>318.66</td>\n",
       "      <td>310.65</td>\n",
       "      <td>318.66</td>\n",
       "    </tr>\n",
       "    <tr>\n",
       "      <th>1987-07-24</th>\n",
       "      <td>0.36</td>\n",
       "      <td>0.50</td>\n",
       "      <td>0.14</td>\n",
       "      <td>1.0</td>\n",
       "      <td>311.39</td>\n",
       "      <td>307.81</td>\n",
       "      <td>309.27</td>\n",
       "    </tr>\n",
       "    <tr>\n",
       "      <th>1987-07-17</th>\n",
       "      <td>NaN</td>\n",
       "      <td>NaN</td>\n",
       "      <td>NaN</td>\n",
       "      <td>NaN</td>\n",
       "      <td>314.59</td>\n",
       "      <td>307.63</td>\n",
       "      <td>314.59</td>\n",
       "    </tr>\n",
       "    <tr>\n",
       "      <th>1987-06-26</th>\n",
       "      <td>NaN</td>\n",
       "      <td>NaN</td>\n",
       "      <td>NaN</td>\n",
       "      <td>NaN</td>\n",
       "      <td>NaN</td>\n",
       "      <td>NaN</td>\n",
       "      <td>NaN</td>\n",
       "    </tr>\n",
       "  </tbody>\n",
       "</table>\n",
       "</div>"
      ],
      "text/plain": [
       "            Bullish  Neutral  Bearish  Total  S&P 500 Weekly High  \\\n",
       "Date                                                                \n",
       "1987-08-07     0.56     0.15     0.29    1.0               323.00   \n",
       "1987-07-31     0.26     0.48     0.26    1.0               318.66   \n",
       "1987-07-24     0.36     0.50     0.14    1.0               311.39   \n",
       "1987-07-17      NaN      NaN      NaN    NaN               314.59   \n",
       "1987-06-26      NaN      NaN      NaN    NaN                  NaN   \n",
       "\n",
       "            S&P 500 Weekly Low  S&P 500 Weekly Close  \n",
       "Date                                                  \n",
       "1987-08-07              316.23                323.00  \n",
       "1987-07-31              310.65                318.66  \n",
       "1987-07-24              307.81                309.27  \n",
       "1987-07-17              307.63                314.59  \n",
       "1987-06-26                 NaN                   NaN  "
      ]
     },
     "execution_count": 50,
     "metadata": {},
     "output_type": "execute_result"
    }
   ],
   "source": [
    "sentimentData = pd.read_csv(\"Investor_Sentiment_Data.csv\", parse_dates=['Date']).set_index('Date')\n",
    "sentimentData[-5:]"
   ]
  },
  {
   "cell_type": "markdown",
   "metadata": {},
   "source": [
    "### Question 10 (7 points)\n",
    "    Find the average S&P Weekly Close every month and print the first 5 records."
   ]
  },
  {
   "cell_type": "markdown",
   "metadata": {},
   "source": [
    "#### Description\n"
   ]
  },
  {
   "cell_type": "code",
   "execution_count": 57,
   "metadata": {},
   "outputs": [
    {
     "data": {
      "text/plain": [
       "Date\n",
       "1987-06           NaN\n",
       "1987-07    314.173333\n",
       "1987-08    328.982500\n",
       "1987-09    318.425000\n",
       "1987-10    284.370000\n",
       "Freq: M, Name: S&P 500 Weekly Close, dtype: float64"
      ]
     },
     "execution_count": 57,
     "metadata": {},
     "output_type": "execute_result"
    }
   ],
   "source": [
    "sentimentData['S&P 500 Weekly Close'].resample('M', kind='period').mean()[:5]"
   ]
  },
  {
   "cell_type": "markdown",
   "metadata": {},
   "source": [
    "### Question 11 (7 points)\n",
    "    For each week, compute the return over the next week, and plot it against the bullish sentiment for that week.\n",
    "    \n",
    "$\\mbox{weekly return for week}\\; i = \\dfrac{\\mbox{(S&P weekly close for week}\\; i+1\\mbox{) - (S&P weekly close for week}\\; i)}{\\mbox{(S&P weekly close for week}\\; i)}$"
   ]
  },
  {
   "cell_type": "markdown",
   "metadata": {},
   "source": [
    "#### Description"
   ]
  },
  {
   "cell_type": "code",
   "execution_count": 96,
   "metadata": {},
   "outputs": [
    {
     "data": {
      "text/plain": [
       "<matplotlib.axes.AxesSubplot at 0x10a09bc50>"
      ]
     },
     "execution_count": 96,
     "metadata": {},
     "output_type": "execute_result"
    },
    {
     "data": {
      "image/png": "[encoded data removed]",
      "text/plain": [
       "<matplotlib.figure.Figure at 0x10954ea10>"
      ]
     },
     "metadata": {},
     "output_type": "display_data"
    }
   ],
   "source": [
    "sentimentData['Return'] = (sentimentData['S&P 500 Weekly Close'].shift(1) - sentimentData['S&P 500 Weekly Close']) / sentimentData['S&P 500 Weekly Close']\n",
    "sentimentData[['Bullish', 'Return']].dropna().plot(x='Bullish', y='Return', kind='scatter')"
   ]
  },
  {
   "cell_type": "markdown",
   "metadata": {},
   "source": [
    "### Question 12 (8 points)\n",
    "    Define \"Gap Up\" and \"Gap Down\" weeks as follows.\n",
    "    \n",
    "$\\mbox{Week i is Gap Up if}\\quad \\mbox{Weekly low for week}\\; i+1 > 1.005 * \\mbox{Weekly high for week}\\; i$\n",
    "$\\mbox{Week i is Gap Down if}\\quad \\mbox{Weekly high for week}\\; i+1 < 0.995 * \\mbox{Weekly low for week}\\; i$\n",
    "    \n",
    "    Draw a figure with two subplots, showing the histograms of Bullish sentiment during Gap Up weeks and Gap Down Weeks. How would you interpret the results?\n",
    "    \n",
    "_Hint_: Use parentheses in constructing masks.\n",
    "\n",
    "_Warning_: This question might take a little more time than the others..."
   ]
  },
  {
   "cell_type": "markdown",
   "metadata": {},
   "source": [
    "#### Description"
   ]
  },
  {
   "cell_type": "code",
   "execution_count": 109,
   "metadata": {},
   "outputs": [
    {
     "name": "stderr",
     "output_type": "stream",
     "text": [
      "/Library/Frameworks/Python.framework/Versions/2.7/lib/python2.7/site-packages/ipykernel/__main__.py:3: SettingWithCopyWarning: \n",
      "A value is trying to be set on a copy of a slice from a DataFrame\n",
      "\n",
      "See the caveats in the documentation: http://pandas.pydata.org/pandas-docs/stable/indexing.html#indexing-view-versus-copy\n",
      "  app.launch_new_instance()\n",
      "/Library/Frameworks/Python.framework/Versions/2.7/lib/python2.7/site-packages/ipykernel/__main__.py:4: SettingWithCopyWarning: \n",
      "A value is trying to be set on a copy of a slice from a DataFrame\n",
      "\n",
      "See the caveats in the documentation: http://pandas.pydata.org/pandas-docs/stable/indexing.html#indexing-view-versus-copy\n"
     ]
    },
    {
     "data": {
      "text/plain": [
       "<matplotlib.axes.AxesSubplot at 0x10b82aa50>"
      ]
     },
     "execution_count": 109,
     "metadata": {},
     "output_type": "execute_result"
    },
    {
     "data": {
      "image/png": "[encoded data removed]",
      "text/plain": [
       "<matplotlib.figure.Figure at 0x10a765fd0>"
      ]
     },
     "metadata": {},
     "output_type": "display_data"
    },
    {
     "data": {
      "image/png": "[encoded data removed]",
      "text/plain": [
       "<matplotlib.figure.Figure at 0x10a8c0710>"
      ]
     },
     "metadata": {},
     "output_type": "display_data"
    }
   ],
   "source": [
    "gapUp = sentimentData.shift(1)['S&P 500 Weekly Low'] > (1.005 * sentimentData['S&P 500 Weekly High'])\n",
    "gapDown = sentimentData.shift(1)['S&P 500 Weekly High'] < (0.995 * sentimentData['S&P 500 Weekly Low'])\n",
    "sentimentData['Gap'][gapUp] = \"Gap Up\"\n",
    "sentimentData['Gap'][gapDown] = \"Gap Down\"\n",
    "\n",
    "sentimentData[['Bullish', 'Gap']][gapUp].plot(kind='hist', xlim=(0,1), ylim=(0,20), title=\"Gap Up Weeks\")\n",
    "sentimentData[['Bullish', 'Gap']][gapDown].plot(kind='hist',  xlim=(0,1), ylim=(0,20), title=\"Gap Down Weeks\")"
   ]
  },
  {
   "cell_type": "markdown",
   "metadata": {},
   "source": [
    "#### Interpretation\n",
    "\n",
    "In Gap Up weeks, bullish sentiment appears to be generally higher than in Gap Down weeks. In Gap Up weeks, the bin of Bullish sentiment with the highest frequency os around 0.4, while in Gap Down weeks it's about 0.3. This indicates that Bullish sentiment somewhat accurately reflects whether a week is Gap Up or Gap Down."
   ]
  },
  {
   "cell_type": "markdown",
   "metadata": {},
   "source": [
    "### Question 13 (7 points)\n",
    "    Regress bullish sentiment against bearish and neutral sentiments. Interpret the results."
   ]
  },
  {
   "cell_type": "markdown",
   "metadata": {},
   "source": [
    "#### Description"
   ]
  },
  {
   "cell_type": "code",
   "execution_count": 116,
   "metadata": {},
   "outputs": [
    {
     "name": "stdout",
     "output_type": "stream",
     "text": [
      "                            OLS Regression Results                            \n",
      "==============================================================================\n",
      "Dep. Variable:                Bullish   R-squared:                       1.000\n",
      "Model:                            OLS   Adj. R-squared:                  1.000\n",
      "Method:                 Least Squares   F-statistic:                 1.937e+09\n",
      "Date:                Mon, 15 May 2017   Prob (F-statistic):               0.00\n",
      "Time:                        10:51:29   Log-Likelihood:                 12355.\n",
      "No. Observations:                1500   AIC:                        -2.470e+04\n",
      "Df Residuals:                    1497   BIC:                        -2.469e+04\n",
      "Df Model:                           2                                         \n",
      "Covariance Type:            nonrobust                                         \n",
      "==============================================================================\n",
      "                 coef    std err          t      P>|t|      [0.025      0.975]\n",
      "------------------------------------------------------------------------------\n",
      "Intercept      1.0000   1.01e-05    9.9e+04      0.000       1.000       1.000\n",
      "Bearish       -1.0000   1.83e-05  -5.46e+04      0.000      -1.000      -1.000\n",
      "Neutral       -1.0000   2.06e-05  -4.85e+04      0.000      -1.000      -1.000\n",
      "==============================================================================\n",
      "Omnibus:                     3377.822   Durbin-Watson:                   1.969\n",
      "Prob(Omnibus):                  0.000   Jarque-Bera (JB):         24809588.940\n",
      "Skew:                          20.001   Prob(JB):                         0.00\n",
      "Kurtosis:                     631.771   Cond. No.                         16.5\n",
      "==============================================================================\n",
      "\n",
      "Warnings:\n",
      "[1] Standard Errors assume that the covariance matrix of the errors is correctly specified.\n"
     ]
    }
   ],
   "source": [
    "import statsmodels.api as sm\n",
    "from patsy import dmatrices\n",
    "\n",
    "y, X = dmatrices(\"Bullish ~ Bearish + Neutral\", data=sentimentData, return_type='dataframe')\n",
    "result = sm.OLS(y, X).fit()\n",
    "print result.summary()"
   ]
  },
  {
   "cell_type": "markdown",
   "metadata": {},
   "source": [
    "#### Interpretation\n",
    "\n",
    "Regressing Bullish on Bearish and Neutral is pretty dumb considering the three up them add up to 1 since it's a ratio."
   ]
  },
  {
   "cell_type": "markdown",
   "metadata": {},
   "source": [
    "---\n",
    "\n",
    "## Questions 14-15 do classification on the same Investor Sentiment dataset.\n",
    "\n",
    "Instructions for loading the dataset were presented earlier. You don't need to load it in again."
   ]
  },
  {
   "cell_type": "markdown",
   "metadata": {},
   "source": [
    "### Question 14 (4 points)\n",
    "    Add a column to the dataframe called target, that is 1 if the weekly return (defined in Q11) is greater than 0.02, and 0 otherwise. How often is the target 1, and how often is it 0?"
   ]
  },
  {
   "cell_type": "markdown",
   "metadata": {},
   "source": [
    "#### Description"
   ]
  },
  {
   "cell_type": "code",
   "execution_count": 140,
   "metadata": {},
   "outputs": [
    {
     "data": {
      "text/plain": [
       "0.0    1271\n",
       "1.0     230\n",
       "Name: Target, dtype: int64"
      ]
     },
     "execution_count": 140,
     "metadata": {},
     "output_type": "execute_result"
    }
   ],
   "source": [
    "sentimentData.loc[sentimentData['Return'] > 0.02, 'Target'] = 1\n",
    "sentimentData.loc[sentimentData['Return'] <= 0.02, 'Target'] = 0\n",
    "\n",
    "sentimentData['Target'].value_counts()"
   ]
  },
  {
   "cell_type": "markdown",
   "metadata": {},
   "source": [
    "### Question 15 (10 points)\n",
    "    Use a k-Nearest-Neighbors with 15 neighbors to predict the target based on the degree of bullish and bearish sentiments. Split the data into 70% train and 30% test, and print the training and testing accuracy of this classifier."
   ]
  },
  {
   "cell_type": "markdown",
   "metadata": {},
   "source": [
    "#### Description\n"
   ]
  },
  {
   "cell_type": "code",
   "execution_count": 145,
   "metadata": {},
   "outputs": [
    {
     "name": "stderr",
     "output_type": "stream",
     "text": [
      "/Library/Frameworks/Python.framework/Versions/2.7/lib/python2.7/site-packages/ipykernel/__main__.py:10: DataConversionWarning: A column-vector y was passed when a 1d array was expected. Please change the shape of y to (n_samples, ), for example using ravel().\n"
     ]
    },
    {
     "data": {
      "text/plain": [
       "KNeighborsClassifier(algorithm='auto', leaf_size=30, metric='minkowski',\n",
       "           metric_params=None, n_jobs=1, n_neighbors=15, p=2,\n",
       "           weights='uniform')"
      ]
     },
     "execution_count": 145,
     "metadata": {},
     "output_type": "execute_result"
    }
   ],
   "source": [
    "from sklearn.model_selection import train_test_split\n",
    "from sklearn import neighbors\n",
    "from sklearn import metrics\n",
    "\n",
    "formula = \"Target ~ Bullish + Bearish\"\n",
    "y, X = dmatrices(formula, data=sentimentData, return_type=\"dataframe\")\n",
    "\n",
    "X_train, X_test, y_train, y_test = train_test_split(X, y, test_size=0.3, random_state=1)\n",
    "model = neighbors.KNeighborsClassifier(n_neighbors=15, weights='uniform', p=2)\n",
    "model.fit(X_train, y_train)"
   ]
  },
  {
   "cell_type": "code",
   "execution_count": 146,
   "metadata": {},
   "outputs": [
    {
     "name": "stdout",
     "output_type": "stream",
     "text": [
      "Training accuracy: 0.848427073403\n",
      "Testing accuracy: 0.84\n"
     ]
    }
   ],
   "source": [
    "training = model.predict(X_train)\n",
    "print \"Training accuracy:\", metrics.accuracy_score(y_train, training)\n",
    "\n",
    "testing = model.predict(X_test)\n",
    "print \"Testing accuracy:\", metrics.accuracy_score(y_test, testing)"
   ]
  }
 ],
 "metadata": {
  "kernelspec": {
   "display_name": "Python 2",
   "language": "python",
   "name": "python2"
  },
  "language_info": {
   "codemirror_mode": {
    "name": "ipython",
    "version": 2
   },
   "file_extension": ".py",
   "mimetype": "text/x-python",
   "name": "python",
   "nbconvert_exporter": "python",
   "pygments_lexer": "ipython2",
   "version": "2.7.12"
  }
 },
 "nbformat": 4,
 "nbformat_minor": 1
}
