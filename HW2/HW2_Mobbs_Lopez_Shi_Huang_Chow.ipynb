{
 "cells": [
  {
   "cell_type": "markdown",
   "metadata": {
    "deletable": true,
    "editable": true
   },
   "source": [
    "# HW2\n",
    "Ian Mobbs, Lina Lopez, Helena Shi, Joyce Dong Yue Huang, Kenneth Chow"
   ]
  },
  {
   "cell_type": "markdown",
   "metadata": {
    "deletable": true,
    "editable": true
   },
   "source": [
    "## Setup\n",
    "1. Import pandas as `pd` for concise use.\n",
    "2. Import matplotlib for plotting\n",
    "3. Read in `NYC_Restaurants.csv` and drop the `Unnamed` column, which is a duplicate of the index."
   ]
  },
  {
   "cell_type": "code",
   "execution_count": 11,
   "metadata": {
    "collapsed": false,
    "deletable": true,
    "editable": true
   },
   "outputs": [
    {
     "name": "stdout",
     "output_type": "stream",
     "text": [
      "Populating the interactive namespace from numpy and matplotlib\n"
     ]
    }
   ],
   "source": [
    "import pandas as pd\n",
    "import matplotlib\n",
    "df = pd.read_csv('NYC_Restaurants.csv', dtype='unicode').drop('Unnamed: 0', 1)\n",
    "%pylab inline"
   ]
  },
  {
   "cell_type": "markdown",
   "metadata": {
    "deletable": true,
    "editable": true
   },
   "source": [
    "## Q1\n",
    "1. Create a new column called `'RESTAURANT'` and add the value of the four prior columns into it. This could also be accomplished with a map."
   ]
  },
  {
   "cell_type": "code",
   "execution_count": 12,
   "metadata": {
    "collapsed": false,
    "deletable": true,
    "editable": true
   },
   "outputs": [],
   "source": [
    "df['RESTAURANT'] = df['DBA'] + \" \" + df['BUILDING'] +  \" \" + df['STREET'] +  \" \" + df['ZIPCODE']"
   ]
  },
  {
   "cell_type": "markdown",
   "metadata": {
    "deletable": true,
    "editable": true
   },
   "source": [
    "## Q2\n",
    "1. After combining the restaurant name and address into the `RESTAURANT` column, we can find the amount of restaurants by getting the count of unique locations in the `RESTAURANT` column\n",
    "\n",
    "Answer: 10,114 restaurants"
   ]
  },
  {
   "cell_type": "code",
   "execution_count": 30,
   "metadata": {
    "collapsed": false,
    "deletable": true,
    "editable": true
   },
   "outputs": [
    {
     "data": {
      "text/plain": [
       "10114"
      ]
     },
     "execution_count": 30,
     "metadata": {},
     "output_type": "execute_result"
    }
   ],
   "source": [
    "restaurants = df['RESTAURANT'].unique()\n",
    "len(restaurants)"
   ]
  },
  {
   "cell_type": "markdown",
   "metadata": {
    "deletable": true,
    "editable": true
   },
   "source": [
    "## Q3\n",
    "1. Create a new column `ADDRESS` that only stores that row's address\n",
    "2. Create a new DataFrame called `unique_addresses` by taking the naem and address of each restaurants, then applying `drop_duplicates()` to ensure we only have one row for each address, wheras without it we'd have one row for each complaint.\n",
    "3. Create mask `chains_in_unique_addresses_mask` that determines whether or not a restaurant name is non-unique among addresses (aka a chain)\n",
    "4. Create series `chain_series` by removing standalone restaurants from the data and only keeping one restaurant name per chain\n",
    "5. Find the length of the unique names, which is the amount of chains within the dataset.\n",
    "\n",
    "Answer: 368 chains"
   ]
  },
  {
   "cell_type": "code",
   "execution_count": 17,
   "metadata": {
    "collapsed": false,
    "deletable": true,
    "editable": true
   },
   "outputs": [
    {
     "data": {
      "text/plain": [
       "368"
      ]
     },
     "execution_count": 17,
     "metadata": {},
     "output_type": "execute_result"
    }
   ],
   "source": [
    "df['ADDRESS'] = df['BUILDING'] +  \" \" + df['STREET'] +  \" \" + df['ZIPCODE']\n",
    "unique_addresses = df[['DBA', 'ADDRESS']].drop_duplicates()\n",
    "chains_in_unique_addresses_mask = unique_addresses['DBA'].duplicated()\n",
    "chain_series = unique_addresses['DBA'][chains_in_unique_addresses_mask].unique()\n",
    "len(chain_series)"
   ]
  },
  {
   "cell_type": "markdown",
   "metadata": {},
   "source": [
    "## Q4\n",
    "1. Get addresses of each chain location from the `unique_addresses` DataFrame by removing every row that isn't in the series of chain names\n",
    "2. Find the `value_counts` of each chain\n",
    "3. Plot the 20 chains with the highest value counts\n",
    "\n",
    "Answer: Plotted"
   ]
  },
  {
   "cell_type": "code",
   "execution_count": 16,
   "metadata": {
    "collapsed": false,
    "deletable": true,
    "editable": true,
    "scrolled": false
   },
   "outputs": [
    {
     "data": {
      "text/plain": [
       "<matplotlib.axes._subplots.AxesSubplot at 0x808712c>"
      ]
     },
     "execution_count": 16,
     "metadata": {},
     "output_type": "execute_result"
    },
    {
     "data": {
      "image/png": "[encoded data removed]",
      "text/plain": [
       "<matplotlib.figure.Figure at 0x7c517ac>"
      ]
     },
     "metadata": {},
     "output_type": "display_data"
    }
   ],
   "source": [
    "all_chain_addresses = unique_addresses[unique_addresses['DBA'].isin(chain_series)].sort_values('DBA')\n",
    "amout_of_each_chain = all_chain_addresses['DBA'].value_counts()\n",
    "amout_of_each_chain[:20].plot(kind='bar')"
   ]
  },
  {
   "cell_type": "markdown",
   "metadata": {
    "collapsed": true,
    "deletable": true,
    "editable": true
   },
   "source": [
    "## Q5\n",
    "1. By taking the length of series containing every chain address over the length of the series containing every unique address, we find that 16.4722% of all restaurants are chains.\n",
    "\n",
    "Answer: 16.4722%"
   ]
  },
  {
   "cell_type": "code",
   "execution_count": 32,
   "metadata": {
    "collapsed": false
   },
   "outputs": [
    {
     "data": {
      "text/plain": [
       "0.16472216729286138"
      ]
     },
     "execution_count": 32,
     "metadata": {},
     "output_type": "execute_result"
    }
   ],
   "source": [
    "len(all_chain_addresses['DBA']) / len(unique_addresses['DBA'])"
   ]
  },
  {
   "cell_type": "code",
   "execution_count": null,
   "metadata": {
    "collapsed": true
   },
   "outputs": [],
   "source": []
  }
 ],
 "metadata": {
  "kernelspec": {
   "display_name": "Python 3",
   "language": "python",
   "name": "python3"
  },
  "language_info": {
   "codemirror_mode": {
    "name": "ipython",
    "version": 3
   },
   "file_extension": ".py",
   "mimetype": "text/x-python",
   "name": "python",
   "nbconvert_exporter": "python",
   "pygments_lexer": "ipython3",
   "version": "3.5.2"
  }
 },
 "nbformat": 4,
 "nbformat_minor": 2
}
