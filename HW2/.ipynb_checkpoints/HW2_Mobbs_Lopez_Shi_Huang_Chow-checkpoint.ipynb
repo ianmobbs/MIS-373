{
 "cells": [
  {
   "cell_type": "markdown",
   "metadata": {
    "deletable": true,
    "editable": true
   },
   "source": [
    "# HW2\n",
    "Ian Mobbs, Lina Lopez, Helena Shi, Joyce Dong Yue Huang, Kenneth Chow"
   ]
  },
  {
   "cell_type": "markdown",
   "metadata": {
    "deletable": true,
    "editable": true
   },
   "source": [
    "## Setup\n",
    "1. Import pandas as `pd` for concise use.\n",
    "2. Import matplotlib for plotting\n",
    "3. Read in `NYC_Restaurants.csv` and drop the `Unnamed` column, which is a duplicate of the index."
   ]
  },
  {
   "cell_type": "code",
   "execution_count": 96,
   "metadata": {
    "collapsed": false,
    "deletable": true,
    "editable": true
   },
   "outputs": [
    {
     "name": "stdout",
     "output_type": "stream",
     "text": [
      "Populating the interactive namespace from numpy and matplotlib\n"
     ]
    }
   ],
   "source": [
    "import pandas as pd\n",
    "import matplotlib\n",
    "df = pd.read_csv('NYC_Restaurants.csv', dtype='unicode').drop('Unnamed: 0', 1)\n",
    "%pylab inline"
   ]
  },
  {
   "cell_type": "markdown",
   "metadata": {
    "deletable": true,
    "editable": true
   },
   "source": [
    "## Q1\n",
    "1. Create a new column called `'RESTAURANT'` and add the value of the four prior columns into it. This could also be accomplished with a map."
   ]
  },
  {
   "cell_type": "code",
   "execution_count": 97,
   "metadata": {
    "collapsed": false,
    "deletable": true,
    "editable": true
   },
   "outputs": [],
   "source": [
    "df['RESTAURANT'] = df['DBA'] + \" \" + df['BUILDING'] +  \" \" + df['STREET'] +  \" \" + df['ZIPCODE']"
   ]
  },
  {
   "cell_type": "markdown",
   "metadata": {
    "deletable": true,
    "editable": true
   },
   "source": [
    "## Q2\n",
    "1. After combining the restaurant name and address into the `RESTAURANT` column, we can find the amount of restaurants by getting the count of unique locations in the `RESTAURANT` column\n",
    "\n",
    "Answer: 10,114 restaurants"
   ]
  },
  {
   "cell_type": "code",
   "execution_count": 98,
   "metadata": {
    "collapsed": false,
    "deletable": true,
    "editable": true
   },
   "outputs": [
    {
     "data": {
      "text/plain": [
       "10114"
      ]
     },
     "execution_count": 98,
     "metadata": {},
     "output_type": "execute_result"
    }
   ],
   "source": [
    "restaurants = df['RESTAURANT'].unique()\n",
    "len(restaurants)"
   ]
  },
  {
   "cell_type": "markdown",
   "metadata": {
    "deletable": true,
    "editable": true
   },
   "source": [
    "## Q3\n",
    "1. Create a new column `ADDRESS` that only stores that row's address\n",
    "2. Create a new DataFrame called `unique_addresses` by taking the naem and address of each restaurants, then applying `drop_duplicates()` to ensure we only have one row for each address, wheras without it we'd have one row for each complaint.\n",
    "3. Create mask `chains_in_unique_addresses_mask` that determines whether or not a restaurant name is non-unique among addresses (aka a chain)\n",
    "4. Create series `chain_series` by removing standalone restaurants from the data and only keeping one restaurant name per chain\n",
    "5. Find the length of the unique names, which is the amount of chains within the dataset.\n",
    "\n",
    "Answer: 368 chains"
   ]
  },
  {
   "cell_type": "code",
   "execution_count": 99,
   "metadata": {
    "collapsed": false,
    "deletable": true,
    "editable": true
   },
   "outputs": [
    {
     "data": {
      "text/plain": [
       "368"
      ]
     },
     "execution_count": 99,
     "metadata": {},
     "output_type": "execute_result"
    }
   ],
   "source": [
    "df['ADDRESS'] = df['BUILDING'] +  \" \" + df['STREET'] +  \" \" + df['ZIPCODE']\n",
    "unique_addresses = df[['DBA', 'ADDRESS', 'BORO']].drop_duplicates()\n",
    "chains_in_unique_addresses_mask = unique_addresses['DBA'].duplicated()\n",
    "chain_series = unique_addresses['DBA'][chains_in_unique_addresses_mask].unique()\n",
    "len(chain_series)"
   ]
  },
  {
   "cell_type": "markdown",
   "metadata": {
    "deletable": true,
    "editable": true
   },
   "source": [
    "## Q4\n",
    "1. Get addresses of each chain location from the `unique_addresses` DataFrame by removing every row that isn't in the series of chain names\n",
    "2. Find the `value_counts` of each chain\n",
    "3. Plot the 20 chains with the highest value counts\n",
    "\n",
    "Answer: Plotted"
   ]
  },
  {
   "cell_type": "code",
   "execution_count": 100,
   "metadata": {
    "collapsed": false,
    "deletable": true,
    "editable": true,
    "scrolled": false
   },
   "outputs": [
    {
     "data": {
      "text/plain": [
       "<matplotlib.axes._subplots.AxesSubplot at 0x7fc54cc>"
      ]
     },
     "execution_count": 100,
     "metadata": {},
     "output_type": "execute_result"
    },
    {
     "data": {
      "image/png": "[encoded data removed]",
      "text/plain": [
       "<matplotlib.figure.Figure at 0x7fc5eac>"
      ]
     },
     "metadata": {},
     "output_type": "display_data"
    }
   ],
   "source": [
    "all_chain_addresses = unique_addresses[unique_addresses['DBA'].isin(chain_series)].sort_values('DBA')\n",
    "amout_of_each_chain = all_chain_addresses['DBA'].value_counts()\n",
    "amout_of_each_chain[:20].plot(kind='bar')"
   ]
  },
  {
   "cell_type": "markdown",
   "metadata": {
    "collapsed": true,
    "deletable": true,
    "editable": true
   },
   "source": [
    "## Q5\n",
    "1. By taking the length of series containing every chain address over the length of the series containing every unique address, we find that 16.4722% of all restaurants are chains.\n",
    "\n",
    "Answer: 16.4722%"
   ]
  },
  {
   "cell_type": "code",
   "execution_count": 101,
   "metadata": {
    "collapsed": false,
    "deletable": true,
    "editable": true
   },
   "outputs": [
    {
     "data": {
      "text/plain": [
       "0.16472216729286138"
      ]
     },
     "execution_count": 101,
     "metadata": {},
     "output_type": "execute_result"
    }
   ],
   "source": [
    "len(all_chain_addresses['DBA']) / len(unique_addresses['DBA'])"
   ]
  },
  {
   "cell_type": "markdown",
   "metadata": {
    "deletable": true,
    "editable": true
   },
   "source": [
    "## Q6\n",
    "1. Find the occurences of each uniquely named restaurant.\n",
    "2. Send the restaurants that only occur once/are not a chain to a series. Send this to a list.\n",
    "3. Create a mask that locates and stores all of the information for the restaurants that are not chains.\n",
    "4. Drop the duplicates. In this case, there are duplicates because in the original dataframe, each row is a unique violation. \n",
    "5. Create another data frame with a NON_CHAIN column that holds the counts of the number of non-chain restaurants in each borough.\n",
    "6. Remove the \"Missing\" borrow.\n",
    "7. Create the bar graph/plot based on the NON_CHAIN column.\n",
    "\n",
    "Answer: Plotted"
   ]
  },
  {
   "cell_type": "code",
   "execution_count": 102,
   "metadata": {
    "collapsed": false,
    "deletable": true,
    "editable": true
   },
   "outputs": [
    {
     "data": {
      "text/plain": [
       "<matplotlib.axes._subplots.AxesSubplot at 0x98060ec>"
      ]
     },
     "execution_count": 102,
     "metadata": {},
     "output_type": "execute_result"
    },
    {
     "data": {
      "image/png": "[encoded data removed]",
      "text/plain": [
       "<matplotlib.figure.Figure at 0x8be674c>"
      ]
     },
     "metadata": {},
     "output_type": "display_data"
    }
   ],
   "source": [
    "restaurant_count = unique_addresses['DBA'].value_counts()\n",
    "non_chains = restaurant_count.loc[restaurant_count == 1]\n",
    "\n",
    "non_chains_list = non_chains.index.tolist()\n",
    "\n",
    "non_chain_df_mask = df.loc[df['DBA'].isin(non_chains_list)]\n",
    "non_chain_df = non_chain_df_mask[['DBA','BORO']].drop_duplicates()\n",
    "\n",
    "boro_df = pd.DataFrame()\n",
    "boro_df['NON_CHAIN'] = non_chain_df['BORO'].value_counts()\n",
    "boro_df['NON_CHAIN'] = boro_df['NON_CHAIN']\n",
    "\n",
    "boro_df = boro_df.drop(['Missing'])\n",
    "boro_df['NON_CHAIN'].plot(kind = 'bar')"
   ]
  },
  {
   "cell_type": "markdown",
   "metadata": {
    "deletable": true,
    "editable": true
   },
   "source": [
    "## Q7\n",
    "1. Create a column called 'REST_COUNT' in the boro_df DataFrame. Fill this with the count of total restaurants in each boro. \n",
    "2. Drop the 'Missing' borough.\n",
    "3. Create another column called 'PERC_NONCHAIN_RESTAURANTS' in the boro_df DataFrame. Fill this with the percentage of non chain restaurants in each borough. This is computed by dividing the previous column (NON_CHAIN) from Q6 by the total number of restaurants in that borough (REST_COUNT).\n",
    "4. Plot that computed column.\n",
    "\n",
    "Answer: Plotted"
   ]
  },
  {
   "cell_type": "code",
   "execution_count": 103,
   "metadata": {
    "collapsed": false,
    "deletable": true,
    "editable": true
   },
   "outputs": [
    {
     "data": {
      "text/plain": [
       "<matplotlib.axes._subplots.AxesSubplot at 0x796d7ac>"
      ]
     },
     "execution_count": 103,
     "metadata": {},
     "output_type": "execute_result"
    },
    {
     "data": {
      "image/png": "[encoded data removed]",
      "text/plain": [
       "<matplotlib.figure.Figure at 0x8c4d72c>"
      ]
     },
     "metadata": {},
     "output_type": "display_data"
    }
   ],
   "source": [
    "boro_df['REST_COUNT'] = unique_addresses['BORO'].value_counts().drop('Missing')\n",
    "\n",
    "boro_df['PERC_NONCHAIN_RESTAURANTS'] = boro_df['NON_CHAIN']/boro_df['REST_COUNT']\n",
    "boro_df['PERC_NONCHAIN_RESTAURANTS'].plot(kind = 'bar')"
   ]
  },
  {
   "cell_type": "markdown",
   "metadata": {
    "deletable": true,
    "editable": true
   },
   "source": [
    "## Q8\n",
    "\n",
    "Answer: Shown below"
   ]
  },
  {
   "cell_type": "code",
   "execution_count": 104,
   "metadata": {
    "collapsed": false,
    "deletable": true,
    "editable": true
   },
   "outputs": [
    {
     "data": {
      "text/plain": [
       "American                                                            2112\n",
       "Chinese                                                             1029\n",
       "Italian                                                              445\n",
       "Pizza                                                                410\n",
       "Café/Coffee/Tea                                                      390\n",
       "Latin (Cuban, Dominican, Puerto Rican, South & Central American)     383\n",
       "Japanese                                                             331\n",
       "Mexican                                                              321\n",
       "Spanish                                                              311\n",
       "Bakery                                                               304\n",
       "Caribbean                                                            258\n",
       "Pizza/Italian                                                        209\n",
       "Delicatessen                                                         153\n",
       "Asian                                                                144\n",
       "French                                                               142\n",
       "Jewish/Kosher                                                        140\n",
       "Indian                                                               136\n",
       "Thai                                                                 122\n",
       "Korean                                                               110\n",
       "Other                                                                103\n",
       "Name: CUISINE DESCRIPTION, dtype: int64"
      ]
     },
     "execution_count": 104,
     "metadata": {},
     "output_type": "execute_result"
    }
   ],
   "source": [
    "df['RESTAURANT CUISINES'] = df['DBA'] + \" \" + df['CUISINE DESCRIPTION']\n",
    "unique_restaurants = df[['DBA', 'CUISINE DESCRIPTION']].drop_duplicates()\n",
    "cuisines = unique_restaurants['CUISINE DESCRIPTION'].value_counts()\n",
    "cuisines[:20]"
   ]
  },
  {
   "cell_type": "markdown",
   "metadata": {
    "deletable": true,
    "editable": true
   },
   "source": [
    "## Q9\n",
    "1. Create a mask that places null values in VIOLATION CODE as True\n",
    "2. Create a new dataframe and apply the mmask to the dataframe\n",
    "3. Order by frequency into top 20 and list by CUISINE DESCRIPTION\n",
    "4. Plot Top 20\n",
    "\n",
    "Answer: Plotted"
   ]
  },
  {
   "cell_type": "code",
   "execution_count": 105,
   "metadata": {
    "collapsed": false,
    "deletable": true,
    "editable": true
   },
   "outputs": [
    {
     "data": {
      "text/plain": [
       "<matplotlib.axes._subplots.AxesSubplot at 0x393e66c>"
      ]
     },
     "execution_count": 105,
     "metadata": {},
     "output_type": "execute_result"
    },
    {
     "data": {
      "image/png": "[encoded data removed]",
      "text/plain": [
       "<matplotlib.figure.Figure at 0x981986c>"
      ]
     },
     "metadata": {},
     "output_type": "display_data"
    }
   ],
   "source": [
    "#Put a mask that calls at null values in VIOLATION CODE True\n",
    "no_viol_mask = df[\"VIOLATION CODE\"].isnull()\n",
    "#apply mask to the dataframe, which shows those two columns\n",
    "df_noviolations = df[[\"RESTAURANT\", \"CUISINE DESCRIPTION\"]][no_viol_mask]\n",
    "#order by frequency\n",
    "top_20 = df_noviolations[\"CUISINE DESCRIPTION\"].value_counts()[0:19]\n",
    "top_20.plot(kind = \"bar\")"
   ]
  },
  {
   "cell_type": "markdown",
   "metadata": {
    "deletable": true,
    "editable": true
   },
   "source": [
    "## Q10\n",
    "\n",
    "1. Get the specific restaurants by location by creating a new column with unique address, cuisine description, and inspection dates. This ensures that you have unique names for a restaurant on the day of inspection, but does include duplicates because of multiple complaints per day that resulted in one inspection.\n",
    "2. Drop duplicates of multiple violations on one inspection date, because you don't want to count the same inspection twice\n",
    "3. Create a series for the total amount of inspections using value_counts() by Cuisine Description. \n",
    "4. Create a mask that gets only the inspections greater than 20\n",
    "5. Apply the mask to the Cuisines series (3)\n",
    "6. Get the ratio of no violations over total number of inspections by dividing\n",
    "7. Print the top 10 ratios in descending order with .sort_values\n",
    "\n",
    "Answer: Shown below"
   ]
  },
  {
   "cell_type": "code",
   "execution_count": 106,
   "metadata": {
    "collapsed": false,
    "deletable": true,
    "editable": true
   },
   "outputs": [
    {
     "data": {
      "text/plain": [
       "Bangladeshi                      0.150000\n",
       "Peruvian                         0.142857\n",
       "Barbecue                         0.142857\n",
       "Russian                          0.111111\n",
       "Soups & Sandwiches               0.095238\n",
       "Continental                      0.095238\n",
       "Vietnamese/Cambodian/Malaysia    0.093750\n",
       "Soul Food                        0.090909\n",
       "French                           0.089041\n",
       "Tex-Mex                          0.086207\n",
       "Name: CUISINE DESCRIPTION, dtype: float64"
      ]
     },
     "execution_count": 106,
     "metadata": {},
     "output_type": "execute_result"
    }
   ],
   "source": [
    "mask_no_violation = df['VIOLATION CODE'].isnull()\n",
    "df_no_violation = df[['RESTAURANT','CUISINE DESCRIPTION']][mask_no_violation]\n",
    "s_cuisine_occurences = df_no_violation['CUISINE DESCRIPTION'].value_counts()\n",
    "\n",
    "df['RESTAURANT CUISINES'] = df['RESTAURANT'] + \" \" + df['CUISINE DESCRIPTION']\n",
    "unique_restaurants = df[['RESTAURANT', 'CUISINE DESCRIPTION']].drop_duplicates()\n",
    "cuisines_rest_count = unique_restaurants['CUISINE DESCRIPTION'].value_counts()\n",
    "#create a mask of the inspections greater than 20\n",
    "mask = cuisines_rest_count >= 20\n",
    "#apply mask\n",
    "cuisines_rest_count[mask]\n",
    "#get the ratio of no violations over total number of inspections \n",
    "series_ratios = s_cuisine_occurences/cuisines_rest_count[mask]\n",
    "#print the top 10 ratios in descending order\n",
    "series_ratios.sort_values(ascending=False)[:10]"
   ]
  },
  {
   "cell_type": "markdown",
   "metadata": {
    "deletable": true,
    "editable": true
   },
   "source": [
    "## Q11\n",
    "1. Create a crosstab to get a frequency table for boroughs and violations. \n",
    "2. Create arrays for borough names, the max number of violations for that borough, and the description of the violation that showed up the most in that borough\n",
    "3. Create a series with the violation description and the max number for that violation\n",
    "4. Create a data frame with the series created in number 3 with borough names array as the index \n",
    "\n",
    "Answer: Shown below"
   ]
  },
  {
   "cell_type": "code",
   "execution_count": 107,
   "metadata": {
    "collapsed": false,
    "deletable": true,
    "editable": true
   },
   "outputs": [
    {
     "data": {
      "text/html": [
       "<div>\n",
       "<table border=\"1\" class=\"dataframe\">\n",
       "  <thead>\n",
       "    <tr style=\"text-align: right;\">\n",
       "      <th></th>\n",
       "      <th>Most Common Violation</th>\n",
       "      <th>Number of Violations</th>\n",
       "    </tr>\n",
       "  </thead>\n",
       "  <tbody>\n",
       "    <tr>\n",
       "      <th>BROOKLYN</th>\n",
       "      <td>Non-food contact surface improperly constructe...</td>\n",
       "      <td>1485</td>\n",
       "    </tr>\n",
       "    <tr>\n",
       "      <th>QUEENS</th>\n",
       "      <td>Non-food contact surface improperly constructe...</td>\n",
       "      <td>1416</td>\n",
       "    </tr>\n",
       "    <tr>\n",
       "      <th>MANHATTAN</th>\n",
       "      <td>Non-food contact surface improperly constructe...</td>\n",
       "      <td>2417</td>\n",
       "    </tr>\n",
       "    <tr>\n",
       "      <th>BRONX</th>\n",
       "      <td>Non-food contact surface improperly constructe...</td>\n",
       "      <td>500</td>\n",
       "    </tr>\n",
       "    <tr>\n",
       "      <th>STATEN ISLAND</th>\n",
       "      <td>Non-food contact surface improperly constructe...</td>\n",
       "      <td>230</td>\n",
       "    </tr>\n",
       "    <tr>\n",
       "      <th>Missing</th>\n",
       "      <td>Non-food contact surface improperly constructe...</td>\n",
       "      <td>8</td>\n",
       "    </tr>\n",
       "  </tbody>\n",
       "</table>\n",
       "</div>"
      ],
      "text/plain": [
       "                                           Most Common Violation  \\\n",
       "BROOKLYN       Non-food contact surface improperly constructe...   \n",
       "QUEENS         Non-food contact surface improperly constructe...   \n",
       "MANHATTAN      Non-food contact surface improperly constructe...   \n",
       "BRONX          Non-food contact surface improperly constructe...   \n",
       "STATEN ISLAND  Non-food contact surface improperly constructe...   \n",
       "Missing        Non-food contact surface improperly constructe...   \n",
       "\n",
       "               Number of Violations  \n",
       "BROOKLYN                       1485  \n",
       "QUEENS                         1416  \n",
       "MANHATTAN                      2417  \n",
       "BRONX                           500  \n",
       "STATEN ISLAND                   230  \n",
       "Missing                           8  "
      ]
     },
     "execution_count": 107,
     "metadata": {},
     "output_type": "execute_result"
    }
   ],
   "source": [
    "temp3 = pd.crosstab(df['BORO'], df['VIOLATION DESCRIPTION'])\n",
    "boro_index = df['BORO'].unique()\n",
    "boro_values = []\n",
    "boro_violations = []\n",
    "brooklyn = temp3.ix['BROOKLYN'].max()\n",
    "brooklyn_violation = temp3.ix['BROOKLYN'].idxmax()\n",
    "boro_values.append(brooklyn)\n",
    "boro_violations.append(brooklyn_violation)\n",
    "queens = temp3.ix['QUEENS'].max()\n",
    "queens_violation = temp3.ix['QUEENS'].idxmax()\n",
    "boro_values.append(queens)\n",
    "boro_violations.append(queens_violation)\n",
    "manhattan = temp3.ix['MANHATTAN'].max()\n",
    "manhattan_violation = temp3.ix['MANHATTAN'].idxmax()\n",
    "boro_values.append(manhattan)\n",
    "boro_violations.append(manhattan_violation)\n",
    "bronx = temp3.ix['BRONX'].max()\n",
    "bronx_violation = temp3.ix['BRONX'].idxmax()\n",
    "boro_values.append(bronx)\n",
    "boro_violations.append(bronx_violation)\n",
    "staten_island = temp3.ix['STATEN ISLAND'].max()\n",
    "staten_island_violation = temp3.ix['STATEN ISLAND'].idxmax()\n",
    "boro_values.append(staten_island)\n",
    "boro_violations.append(staten_island_violation)\n",
    "missing = temp3.ix['Missing'].max()\n",
    "missing_violation = temp3.ix['Missing'].idxmax()\n",
    "boro_values.append(missing)\n",
    "boro_violations.append(missing_violation)\n",
    "\n",
    "\n",
    "data = {'Most Common Violation': boro_violations, 'Number of Violations': boro_values}\n",
    "new = pd.DataFrame(data, index=boro_index)\n",
    "new"
   ]
  },
  {
   "cell_type": "markdown",
   "metadata": {
    "deletable": true,
    "editable": true
   },
   "source": [
    "## Q12\n",
    "1. Get the boros and violation counts for the boro by using crosstab to add frequencies of the dummy variables and putting them into a dataframe\n",
    "2. Get the unique names of the boros and put them into an array, for later use\n",
    "3. Create an empty list to contain the violation names\n",
    "4. Get the total violations frequencies table by making a series of the value_counts()\n",
    "5. Set a counter and create a while loop that goes through the elements of the first dataframe\n",
    "6. While looping, create series1 for each borough, containing violations and their value counts\n",
    "7. Get the ratio of violations in a boro/total violations of that type, sort into most frequent in that boro, and append to the violation names series (step 3)\n",
    "8. Create a series from the two lists of unique boro names (2) and boro violations (3) that you appended to\n",
    "9. Print the series\n",
    "\n",
    "Answer: Shown below"
   ]
  },
  {
   "cell_type": "code",
   "execution_count": 108,
   "metadata": {
    "collapsed": false,
    "deletable": true,
    "editable": true
   },
   "outputs": [
    {
     "name": "stdout",
     "output_type": "stream",
     "text": [
      "BROOKLYN                               Unprotected food re-served.\n",
      "QUEENS           Precooked potentially hazardous food from comm...\n",
      "MANHATTAN        Out-of package sale of tobacco products observed.\n",
      "BRONX            ''''Wash hands\u001a sign not posted at hand wash f...\n",
      "STATEN ISLAND    Harmful, noxious gas or vapor detected. CO ~1 ...\n",
      "Missing          Eggs found dirty/cracked; liquid, frozen or po...\n",
      "dtype: object\n"
     ]
    }
   ],
   "source": [
    "#Gets the boro and all the violation counts for that boro\n",
    "df_boro_violations = pd.crosstab(df['BORO'], df['VIOLATION DESCRIPTION'])\n",
    "#get all the names of the boros and puts them into an array\n",
    "boro_index = df['BORO'].unique()\n",
    "#create a list to contain the violations\n",
    "boro_violations = []\n",
    "#get all the frequencies and their total number of occurences\n",
    "series_violation_frequencies_total = df['VIOLATION DESCRIPTION'].value_counts()\n",
    "#Iterate through boro violations\n",
    "for count in range(len(df_boro_violations)):\n",
    "    #gets the current series\n",
    "    series1 = df_boro_violations.ix[count]\n",
    "    #gets the highest ratio and appends to list\n",
    "    boro_violations.append((series1/series_violation_frequencies_total).sort_values(ascending=False).index[0])\n",
    "#creates a series of the boro names and the highest ratio violation\n",
    "boro_most_frequent_violations = pd.Series(boro_violations, index=boro_index)\n",
    "#print the series\n",
    "print(boro_most_frequent_violations)"
   ]
  }
 ],
 "metadata": {
  "kernelspec": {
   "display_name": "Python 3",
   "language": "python",
   "name": "python3"
  },
  "language_info": {
   "codemirror_mode": {
    "name": "ipython",
    "version": 3
   },
   "file_extension": ".py",
   "mimetype": "text/x-python",
   "name": "python",
   "nbconvert_exporter": "python",
   "pygments_lexer": "ipython3",
   "version": "3.5.2"
  }
 },
 "nbformat": 4,
 "nbformat_minor": 2
}
